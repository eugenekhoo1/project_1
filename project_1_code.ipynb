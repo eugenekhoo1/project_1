{
 "cells": [
  {
   "cell_type": "markdown",
   "metadata": {},
   "source": [
    "<img src=\"http://imgur.com/1ZcRyrc.png\" style=\"float: left; margin: 20px; height: 55px\">\n",
    "\n",
    "# Project 1: Standardized Test Analysis"
   ]
  },
  {
   "cell_type": "markdown",
   "metadata": {},
   "source": [
    "--- \n",
    "# Part 1\n",
    "\n",
    "Part 1 requires knowledge of basic Python.\n",
    "\n",
    "---"
   ]
  },
  {
   "cell_type": "markdown",
   "metadata": {},
   "source": [
    "## Problem Statement"
   ]
  },
  {
   "cell_type": "markdown",
   "metadata": {},
   "source": [
    "__How can we optimize for the best chance of gaining admission to the best possible university?__"
   ]
  },
  {
   "cell_type": "markdown",
   "metadata": {},
   "source": [
    "## Background"
   ]
  },
  {
   "cell_type": "markdown",
   "metadata": {},
   "source": [
    "The SAT and ACT are standardized tests that many colleges and universities in the United States require for their admissions process. This score is used along with other materials such as grade point average (GPA) and essay responses to determine whether or not a potential student will be accepted to the university.\n",
    "\n",
    "The SAT has two sections of the test: Evidence-Based Reading and Writing and Math ([*source*](https://www.princetonreview.com/college/sat-sections)). The ACT has 4 sections: English, Mathematics, Reading, and Science, with an additional optional writing section ([*source*](https://www.act.org/content/act/en/products-and-services/the-act/scores/understanding-your-scores.html)). They have different score ranges, which you can read more about on their websites or additional outside sources (a quick Google search will help you understand the scores for each test):\n",
    "* [SAT](https://collegereadiness.collegeboard.org/sat)\n",
    "* [ACT](https://www.act.org/content/act/en.html)\n",
    "\n",
    "Standardized tests have long been a controversial topic for students, administrators, and legislators. Since the 1940's, an increasing number of colleges have been using scores from sudents' performances on tests like the SAT and the ACT as a measure for college readiness and aptitude ([*source*](https://www.minotdailynews.com/news/local-news/2017/04/a-brief-history-of-the-sat-and-act/)). Supporters of these tests argue that these scores can be used as an objective measure to determine college admittance. Opponents of these tests claim that these tests are not accurate measures of students potential or ability and serve as an inequitable barrier to entry. Lately, more and more schools are opting to drop the SAT/ACT requirement for their Fall 2021 applications ([*read more about this here*](https://www.cnn.com/2020/04/14/us/coronavirus-colleges-sat-act-test-trnd/index.html))."
   ]
  },
  {
   "cell_type": "markdown",
   "metadata": {},
   "source": [
    "Still, pre tertiary admission tests are a signal of a prospective student's intellectual capacity and are necessary given the scarcity of placements in top universities. Test scores (of all types including university grades) act as signals to employers as well."
   ]
  },
  {
   "cell_type": "markdown",
   "metadata": {},
   "source": [
    "### Choose your Data\n",
    "\n",
    "For this analysis, we will be using SAT and ACT scores, as well as the ranges of accepted ACT/SAT student scores by colleges\n",
    "* act_2017\n",
    "* act_2018\n",
    "* act_2019\n",
    "* sat_2017\n",
    "* sat_2018\n",
    "* sat_2019\n",
    "* sat_act_by_college\n",
    "\n",
    "These datasets are then cleaned and merged to conduct cross-sectional and time series analysis. The resulting datasets used are:\n",
    "* merged_scores_{} : {2017, 2018, 2019, all}\n",
    "* sat_act_by_college"
   ]
  },
  {
   "cell_type": "markdown",
   "metadata": {},
   "source": [
    "### Coding Challenges\n",
    "\n",
    "1. Manually calculate mean:\n",
    "\n",
    "    Write a function that takes in values and returns the mean of the values. Create a list of numbers that you test on your function to check to make sure your function works!\n",
    "    \n",
    "    *Note*: Do not use any mean methods built-in to any Python libraries to do this! This should be done without importing any additional libraries."
   ]
  },
  {
   "cell_type": "code",
   "execution_count": 1,
   "metadata": {},
   "outputs": [],
   "source": [
    "def mean(list):\n",
    "    return sum(list) / len(list)"
   ]
  },
  {
   "cell_type": "markdown",
   "metadata": {},
   "source": [
    "2. Manually calculate standard deviation:\n",
    "\n",
    "    The formula for standard deviation is below:\n",
    "\n",
    "    $$\\sigma = \\sqrt{\\frac{1}{n}\\sum_{i=1}^n(x_i - \\mu)^2}$$\n",
    "\n",
    "    Where $x_i$ represents each value in the dataset, $\\mu$ represents the mean of all values in the dataset and $n$ represents the number of values in the dataset.\n",
    "\n",
    "    Write a function that takes in values and returns the standard deviation of the values using the formula above. Hint: use the function you wrote above to calculate the mean! Use the list of numbers you created above to test on your function.\n",
    "    \n",
    "    *Note*: Do not use any standard deviation methods built-in to any Python libraries to do this! This should be done without importing any additional libraries."
   ]
  },
  {
   "cell_type": "code",
   "execution_count": 2,
   "metadata": {},
   "outputs": [],
   "source": [
    "# Population Standard Deviation\n",
    "\n",
    "def std_dev(list):\n",
    "    x = 0\n",
    "    for y in list:\n",
    "        x += (y - mean(list)) ** 2\n",
    "    std_dev1 = ((1/len(list)) * x) ** (1/2)\n",
    "    return std_dev1"
   ]
  },
  {
   "cell_type": "markdown",
   "metadata": {},
   "source": [
    "3. Data cleaning function:\n",
    "    \n",
    "    Write a function that takes in a string that is a number and a percent symbol (ex. '50%', '30.5%', etc.) and converts this to a float that is the decimal approximation of the percent. For example, inputting '50%' in your function should return 0.5, '30.5%' should return 0.305, etc. Make sure to test your function to make sure it works!\n",
    "\n",
    "You will use these functions later on in the project!"
   ]
  },
  {
   "cell_type": "code",
   "execution_count": 3,
   "metadata": {},
   "outputs": [],
   "source": [
    "def str_to_float(string):\n",
    "    try: \n",
    "        output = round(float(string.strip('%')) / 100, 4)\n",
    "    except:\n",
    "        output = 0\n",
    "    return output"
   ]
  },
  {
   "cell_type": "markdown",
   "metadata": {},
   "source": [
    "--- \n",
    "# Part 2\n",
    "\n",
    "Part 2 requires knowledge of Pandas, EDA, data cleaning, and data visualization.\n",
    "\n",
    "---"
   ]
  },
  {
   "cell_type": "markdown",
   "metadata": {},
   "source": [
    "*All libraries used should be added here*"
   ]
  },
  {
   "cell_type": "code",
   "execution_count": 4,
   "metadata": {},
   "outputs": [],
   "source": [
    "import numpy as np\n",
    "import pandas as pd\n",
    "import matplotlib.pyplot as plt\n",
    "import scipy as stats\n",
    "import seaborn as sns\n",
    "from IPython.display import display"
   ]
  },
  {
   "cell_type": "markdown",
   "metadata": {},
   "source": [
    "## Data Import and Cleaning"
   ]
  },
  {
   "cell_type": "markdown",
   "metadata": {},
   "source": [
    "### Data Import & Cleaning\n",
    "\n",
    "Import the datasets that you selected for this project and go through the following steps at a minimum. You are welcome to do further cleaning as you feel necessary:\n",
    "1. Display the data: print the first 5 rows of each dataframe to your Jupyter notebook.\n",
    "2. Check for missing values.\n",
    "3. Check for any obvious issues with the observations (keep in mind the minimum & maximum possible values for each test/subtest).\n",
    "4. Fix any errors you identified in steps 2-3.\n",
    "5. Display the data types of each feature.\n",
    "6. Fix any incorrect data types found in step 5.\n",
    "    - Fix any individual values preventing other columns from being the appropriate type.\n",
    "    - If your dataset has a column of percents (ex. '50%', '30.5%', etc.), use the function you wrote in Part 1 (coding challenges, number 3) to convert this to floats! *Hint*: use `.map()` or `.apply()`.\n",
    "7. Rename Columns.\n",
    "    - Column names should be all lowercase.\n",
    "    - Column names should not contain spaces (underscores will suffice--this allows for using the `df.column_name` method to access columns in addition to `df['column_name']`).\n",
    "    - Column names should be unique and informative.\n",
    "8. Drop unnecessary rows (if needed).\n",
    "9. Merge dataframes that can be merged.\n",
    "10. Perform any additional cleaning that you feel is necessary.\n",
    "11. Save your cleaned and merged dataframes as csv files."
   ]
  },
  {
   "cell_type": "markdown",
   "metadata": {},
   "source": [
    "__Import data files__"
   ]
  },
  {
   "cell_type": "code",
   "execution_count": 5,
   "metadata": {},
   "outputs": [],
   "source": [
    "file_list = ['act_2017.csv', 'act_2018.csv', 'act_2019.csv', 'sat_2017.csv', 'sat_2018.csv', 'sat_2019.csv', 'sat_2019_by_intended_college_major.csv', 'sat_act_by_college.csv']\n",
    "\n",
    "# Loop to import list of files with defined variable names\n",
    "# globals function to format string into global variable for use later on\n",
    "\n",
    "for x in file_list:\n",
    "    globals()[f'{x.replace(\".csv\",\"\")}'] = pd.read_csv('../data/{}'.format(x))"
   ]
  },
  {
   "cell_type": "markdown",
   "metadata": {},
   "source": [
    "1. Display the data: print the first 5 rows of each dataframe to your Jupyter notebook."
   ]
  },
  {
   "cell_type": "code",
   "execution_count": 6,
   "metadata": {},
   "outputs": [
    {
     "data": {
      "text/html": [
       "<div>\n",
       "<style scoped>\n",
       "    .dataframe tbody tr th:only-of-type {\n",
       "        vertical-align: middle;\n",
       "    }\n",
       "\n",
       "    .dataframe tbody tr th {\n",
       "        vertical-align: top;\n",
       "    }\n",
       "\n",
       "    .dataframe thead th {\n",
       "        text-align: right;\n",
       "    }\n",
       "</style>\n",
       "<table border=\"1\" class=\"dataframe\">\n",
       "  <thead>\n",
       "    <tr style=\"text-align: right;\">\n",
       "      <th></th>\n",
       "      <th>State</th>\n",
       "      <th>Participation Rate</th>\n",
       "      <th>EBRW</th>\n",
       "      <th>Math</th>\n",
       "      <th>Total</th>\n",
       "    </tr>\n",
       "  </thead>\n",
       "  <tbody>\n",
       "    <tr>\n",
       "      <th>0</th>\n",
       "      <td>Alabama</td>\n",
       "      <td>7%</td>\n",
       "      <td>583</td>\n",
       "      <td>560</td>\n",
       "      <td>1143</td>\n",
       "    </tr>\n",
       "    <tr>\n",
       "      <th>1</th>\n",
       "      <td>Alaska</td>\n",
       "      <td>41%</td>\n",
       "      <td>556</td>\n",
       "      <td>541</td>\n",
       "      <td>1097</td>\n",
       "    </tr>\n",
       "    <tr>\n",
       "      <th>2</th>\n",
       "      <td>Arizona</td>\n",
       "      <td>31%</td>\n",
       "      <td>569</td>\n",
       "      <td>565</td>\n",
       "      <td>1134</td>\n",
       "    </tr>\n",
       "    <tr>\n",
       "      <th>3</th>\n",
       "      <td>Arkansas</td>\n",
       "      <td>6%</td>\n",
       "      <td>582</td>\n",
       "      <td>559</td>\n",
       "      <td>1141</td>\n",
       "    </tr>\n",
       "    <tr>\n",
       "      <th>4</th>\n",
       "      <td>California</td>\n",
       "      <td>63%</td>\n",
       "      <td>534</td>\n",
       "      <td>531</td>\n",
       "      <td>1065</td>\n",
       "    </tr>\n",
       "  </tbody>\n",
       "</table>\n",
       "</div>"
      ],
      "text/plain": [
       "        State Participation Rate  EBRW  Math  Total\n",
       "0     Alabama                 7%   583   560   1143\n",
       "1      Alaska                41%   556   541   1097\n",
       "2     Arizona                31%   569   565   1134\n",
       "3    Arkansas                 6%   582   559   1141\n",
       "4  California                63%   534   531   1065"
      ]
     },
     "metadata": {},
     "output_type": "display_data"
    },
    {
     "data": {
      "text/html": [
       "<div>\n",
       "<style scoped>\n",
       "    .dataframe tbody tr th:only-of-type {\n",
       "        vertical-align: middle;\n",
       "    }\n",
       "\n",
       "    .dataframe tbody tr th {\n",
       "        vertical-align: top;\n",
       "    }\n",
       "\n",
       "    .dataframe thead th {\n",
       "        text-align: right;\n",
       "    }\n",
       "</style>\n",
       "<table border=\"1\" class=\"dataframe\">\n",
       "  <thead>\n",
       "    <tr style=\"text-align: right;\">\n",
       "      <th></th>\n",
       "      <th>State</th>\n",
       "      <th>Participation</th>\n",
       "      <th>Composite</th>\n",
       "    </tr>\n",
       "  </thead>\n",
       "  <tbody>\n",
       "    <tr>\n",
       "      <th>0</th>\n",
       "      <td>Alabama</td>\n",
       "      <td>100%</td>\n",
       "      <td>18.9</td>\n",
       "    </tr>\n",
       "    <tr>\n",
       "      <th>1</th>\n",
       "      <td>Alaska</td>\n",
       "      <td>38%</td>\n",
       "      <td>20.1</td>\n",
       "    </tr>\n",
       "    <tr>\n",
       "      <th>2</th>\n",
       "      <td>Arizona</td>\n",
       "      <td>73%</td>\n",
       "      <td>19.0</td>\n",
       "    </tr>\n",
       "    <tr>\n",
       "      <th>3</th>\n",
       "      <td>Arkansas</td>\n",
       "      <td>100%</td>\n",
       "      <td>19.3</td>\n",
       "    </tr>\n",
       "    <tr>\n",
       "      <th>4</th>\n",
       "      <td>California</td>\n",
       "      <td>23%</td>\n",
       "      <td>22.6</td>\n",
       "    </tr>\n",
       "  </tbody>\n",
       "</table>\n",
       "</div>"
      ],
      "text/plain": [
       "        State Participation  Composite\n",
       "0     Alabama          100%       18.9\n",
       "1      Alaska           38%       20.1\n",
       "2     Arizona           73%       19.0\n",
       "3    Arkansas          100%       19.3\n",
       "4  California           23%       22.6"
      ]
     },
     "metadata": {},
     "output_type": "display_data"
    },
    {
     "data": {
      "text/html": [
       "<div>\n",
       "<style scoped>\n",
       "    .dataframe tbody tr th:only-of-type {\n",
       "        vertical-align: middle;\n",
       "    }\n",
       "\n",
       "    .dataframe tbody tr th {\n",
       "        vertical-align: top;\n",
       "    }\n",
       "\n",
       "    .dataframe thead th {\n",
       "        text-align: right;\n",
       "    }\n",
       "</style>\n",
       "<table border=\"1\" class=\"dataframe\">\n",
       "  <thead>\n",
       "    <tr style=\"text-align: right;\">\n",
       "      <th></th>\n",
       "      <th>State</th>\n",
       "      <th>Participation</th>\n",
       "      <th>Composite</th>\n",
       "    </tr>\n",
       "  </thead>\n",
       "  <tbody>\n",
       "    <tr>\n",
       "      <th>0</th>\n",
       "      <td>Alabama</td>\n",
       "      <td>100%</td>\n",
       "      <td>19.1</td>\n",
       "    </tr>\n",
       "    <tr>\n",
       "      <th>1</th>\n",
       "      <td>Alaska</td>\n",
       "      <td>33%</td>\n",
       "      <td>20.8</td>\n",
       "    </tr>\n",
       "    <tr>\n",
       "      <th>2</th>\n",
       "      <td>Arizona</td>\n",
       "      <td>66%</td>\n",
       "      <td>19.2</td>\n",
       "    </tr>\n",
       "    <tr>\n",
       "      <th>3</th>\n",
       "      <td>Arkansas</td>\n",
       "      <td>100%</td>\n",
       "      <td>19.4</td>\n",
       "    </tr>\n",
       "    <tr>\n",
       "      <th>4</th>\n",
       "      <td>California</td>\n",
       "      <td>27%</td>\n",
       "      <td>22.7</td>\n",
       "    </tr>\n",
       "  </tbody>\n",
       "</table>\n",
       "</div>"
      ],
      "text/plain": [
       "        State Participation  Composite\n",
       "0     Alabama          100%       19.1\n",
       "1      Alaska           33%       20.8\n",
       "2     Arizona           66%       19.2\n",
       "3    Arkansas          100%       19.4\n",
       "4  California           27%       22.7"
      ]
     },
     "metadata": {},
     "output_type": "display_data"
    },
    {
     "data": {
      "text/html": [
       "<div>\n",
       "<style scoped>\n",
       "    .dataframe tbody tr th:only-of-type {\n",
       "        vertical-align: middle;\n",
       "    }\n",
       "\n",
       "    .dataframe tbody tr th {\n",
       "        vertical-align: top;\n",
       "    }\n",
       "\n",
       "    .dataframe thead th {\n",
       "        text-align: right;\n",
       "    }\n",
       "</style>\n",
       "<table border=\"1\" class=\"dataframe\">\n",
       "  <thead>\n",
       "    <tr style=\"text-align: right;\">\n",
       "      <th></th>\n",
       "      <th>State</th>\n",
       "      <th>Participation</th>\n",
       "      <th>Composite</th>\n",
       "    </tr>\n",
       "  </thead>\n",
       "  <tbody>\n",
       "    <tr>\n",
       "      <th>0</th>\n",
       "      <td>Alabama</td>\n",
       "      <td>100%</td>\n",
       "      <td>19.1</td>\n",
       "    </tr>\n",
       "    <tr>\n",
       "      <th>1</th>\n",
       "      <td>Alaska</td>\n",
       "      <td>33%</td>\n",
       "      <td>20.8</td>\n",
       "    </tr>\n",
       "    <tr>\n",
       "      <th>2</th>\n",
       "      <td>Arizona</td>\n",
       "      <td>66%</td>\n",
       "      <td>19.2</td>\n",
       "    </tr>\n",
       "    <tr>\n",
       "      <th>3</th>\n",
       "      <td>Arkansas</td>\n",
       "      <td>100%</td>\n",
       "      <td>19.4</td>\n",
       "    </tr>\n",
       "    <tr>\n",
       "      <th>4</th>\n",
       "      <td>California</td>\n",
       "      <td>27%</td>\n",
       "      <td>22.7</td>\n",
       "    </tr>\n",
       "  </tbody>\n",
       "</table>\n",
       "</div>"
      ],
      "text/plain": [
       "        State Participation  Composite\n",
       "0     Alabama          100%       19.1\n",
       "1      Alaska           33%       20.8\n",
       "2     Arizona           66%       19.2\n",
       "3    Arkansas          100%       19.4\n",
       "4  California           27%       22.7"
      ]
     },
     "metadata": {},
     "output_type": "display_data"
    },
    {
     "data": {
      "text/html": [
       "<div>\n",
       "<style scoped>\n",
       "    .dataframe tbody tr th:only-of-type {\n",
       "        vertical-align: middle;\n",
       "    }\n",
       "\n",
       "    .dataframe tbody tr th {\n",
       "        vertical-align: top;\n",
       "    }\n",
       "\n",
       "    .dataframe thead th {\n",
       "        text-align: right;\n",
       "    }\n",
       "</style>\n",
       "<table border=\"1\" class=\"dataframe\">\n",
       "  <thead>\n",
       "    <tr style=\"text-align: right;\">\n",
       "      <th></th>\n",
       "      <th>State</th>\n",
       "      <th>Participation</th>\n",
       "      <th>English</th>\n",
       "      <th>Math</th>\n",
       "      <th>Reading</th>\n",
       "      <th>Science</th>\n",
       "      <th>Composite</th>\n",
       "    </tr>\n",
       "  </thead>\n",
       "  <tbody>\n",
       "    <tr>\n",
       "      <th>0</th>\n",
       "      <td>National</td>\n",
       "      <td>60%</td>\n",
       "      <td>20.3</td>\n",
       "      <td>20.7</td>\n",
       "      <td>21.4</td>\n",
       "      <td>21.0</td>\n",
       "      <td>21.0</td>\n",
       "    </tr>\n",
       "    <tr>\n",
       "      <th>1</th>\n",
       "      <td>Alabama</td>\n",
       "      <td>100%</td>\n",
       "      <td>18.9</td>\n",
       "      <td>18.4</td>\n",
       "      <td>19.7</td>\n",
       "      <td>19.4</td>\n",
       "      <td>19.2</td>\n",
       "    </tr>\n",
       "    <tr>\n",
       "      <th>2</th>\n",
       "      <td>Alaska</td>\n",
       "      <td>65%</td>\n",
       "      <td>18.7</td>\n",
       "      <td>19.8</td>\n",
       "      <td>20.4</td>\n",
       "      <td>19.9</td>\n",
       "      <td>19.8</td>\n",
       "    </tr>\n",
       "    <tr>\n",
       "      <th>3</th>\n",
       "      <td>Arizona</td>\n",
       "      <td>62%</td>\n",
       "      <td>18.6</td>\n",
       "      <td>19.8</td>\n",
       "      <td>20.1</td>\n",
       "      <td>19.8</td>\n",
       "      <td>19.7</td>\n",
       "    </tr>\n",
       "    <tr>\n",
       "      <th>4</th>\n",
       "      <td>Arkansas</td>\n",
       "      <td>100%</td>\n",
       "      <td>18.9</td>\n",
       "      <td>19.0</td>\n",
       "      <td>19.7</td>\n",
       "      <td>19.5</td>\n",
       "      <td>19.4</td>\n",
       "    </tr>\n",
       "  </tbody>\n",
       "</table>\n",
       "</div>"
      ],
      "text/plain": [
       "      State Participation  English  Math  Reading  Science Composite\n",
       "0  National           60%     20.3  20.7     21.4     21.0      21.0\n",
       "1   Alabama          100%     18.9  18.4     19.7     19.4      19.2\n",
       "2    Alaska           65%     18.7  19.8     20.4     19.9      19.8\n",
       "3   Arizona           62%     18.6  19.8     20.1     19.8      19.7\n",
       "4  Arkansas          100%     18.9  19.0     19.7     19.5      19.4"
      ]
     },
     "metadata": {},
     "output_type": "display_data"
    },
    {
     "data": {
      "text/html": [
       "<div>\n",
       "<style scoped>\n",
       "    .dataframe tbody tr th:only-of-type {\n",
       "        vertical-align: middle;\n",
       "    }\n",
       "\n",
       "    .dataframe tbody tr th {\n",
       "        vertical-align: top;\n",
       "    }\n",
       "\n",
       "    .dataframe thead th {\n",
       "        text-align: right;\n",
       "    }\n",
       "</style>\n",
       "<table border=\"1\" class=\"dataframe\">\n",
       "  <thead>\n",
       "    <tr style=\"text-align: right;\">\n",
       "      <th></th>\n",
       "      <th>State</th>\n",
       "      <th>Participation</th>\n",
       "      <th>English</th>\n",
       "      <th>Math</th>\n",
       "      <th>Reading</th>\n",
       "      <th>Science</th>\n",
       "      <th>Composite</th>\n",
       "    </tr>\n",
       "  </thead>\n",
       "  <tbody>\n",
       "    <tr>\n",
       "      <th>0</th>\n",
       "      <td>National</td>\n",
       "      <td>60%</td>\n",
       "      <td>20.3</td>\n",
       "      <td>20.7</td>\n",
       "      <td>21.4</td>\n",
       "      <td>21.0</td>\n",
       "      <td>21.0</td>\n",
       "    </tr>\n",
       "    <tr>\n",
       "      <th>1</th>\n",
       "      <td>Alabama</td>\n",
       "      <td>100%</td>\n",
       "      <td>18.9</td>\n",
       "      <td>18.4</td>\n",
       "      <td>19.7</td>\n",
       "      <td>19.4</td>\n",
       "      <td>19.2</td>\n",
       "    </tr>\n",
       "    <tr>\n",
       "      <th>2</th>\n",
       "      <td>Alaska</td>\n",
       "      <td>65%</td>\n",
       "      <td>18.7</td>\n",
       "      <td>19.8</td>\n",
       "      <td>20.4</td>\n",
       "      <td>19.9</td>\n",
       "      <td>19.8</td>\n",
       "    </tr>\n",
       "    <tr>\n",
       "      <th>3</th>\n",
       "      <td>Arizona</td>\n",
       "      <td>62%</td>\n",
       "      <td>18.6</td>\n",
       "      <td>19.8</td>\n",
       "      <td>20.1</td>\n",
       "      <td>19.8</td>\n",
       "      <td>19.7</td>\n",
       "    </tr>\n",
       "    <tr>\n",
       "      <th>4</th>\n",
       "      <td>Arkansas</td>\n",
       "      <td>100%</td>\n",
       "      <td>18.9</td>\n",
       "      <td>19.0</td>\n",
       "      <td>19.7</td>\n",
       "      <td>19.5</td>\n",
       "      <td>19.4</td>\n",
       "    </tr>\n",
       "  </tbody>\n",
       "</table>\n",
       "</div>"
      ],
      "text/plain": [
       "      State Participation  English  Math  Reading  Science Composite\n",
       "0  National           60%     20.3  20.7     21.4     21.0      21.0\n",
       "1   Alabama          100%     18.9  18.4     19.7     19.4      19.2\n",
       "2    Alaska           65%     18.7  19.8     20.4     19.9      19.8\n",
       "3   Arizona           62%     18.6  19.8     20.1     19.8      19.7\n",
       "4  Arkansas          100%     18.9  19.0     19.7     19.5      19.4"
      ]
     },
     "metadata": {},
     "output_type": "display_data"
    },
    {
     "data": {
      "text/html": [
       "<div>\n",
       "<style scoped>\n",
       "    .dataframe tbody tr th:only-of-type {\n",
       "        vertical-align: middle;\n",
       "    }\n",
       "\n",
       "    .dataframe tbody tr th {\n",
       "        vertical-align: top;\n",
       "    }\n",
       "\n",
       "    .dataframe thead th {\n",
       "        text-align: right;\n",
       "    }\n",
       "</style>\n",
       "<table border=\"1\" class=\"dataframe\">\n",
       "  <thead>\n",
       "    <tr style=\"text-align: right;\">\n",
       "      <th></th>\n",
       "      <th>School</th>\n",
       "      <th>Test Optional?</th>\n",
       "      <th>Applies to Class Year(s)</th>\n",
       "      <th>Policy Details</th>\n",
       "      <th>Number of Applicants</th>\n",
       "      <th>Accept Rate</th>\n",
       "      <th>SAT Total 25th-75th Percentile</th>\n",
       "      <th>ACT Total 25th-75th Percentile</th>\n",
       "    </tr>\n",
       "  </thead>\n",
       "  <tbody>\n",
       "    <tr>\n",
       "      <th>0</th>\n",
       "      <td>Stanford University</td>\n",
       "      <td>Yes</td>\n",
       "      <td>2021</td>\n",
       "      <td>Stanford has adopted a one-year test optional ...</td>\n",
       "      <td>47452</td>\n",
       "      <td>4.30%</td>\n",
       "      <td>1440-1570</td>\n",
       "      <td>32-35</td>\n",
       "    </tr>\n",
       "    <tr>\n",
       "      <th>1</th>\n",
       "      <td>Harvard College</td>\n",
       "      <td>Yes</td>\n",
       "      <td>2021</td>\n",
       "      <td>Harvard has adopted a one-year test optional p...</td>\n",
       "      <td>42749</td>\n",
       "      <td>4.70%</td>\n",
       "      <td>1460-1580</td>\n",
       "      <td>33-35</td>\n",
       "    </tr>\n",
       "    <tr>\n",
       "      <th>2</th>\n",
       "      <td>Princeton University</td>\n",
       "      <td>Yes</td>\n",
       "      <td>2021</td>\n",
       "      <td>Princeton has adopted a one-year test optional...</td>\n",
       "      <td>35370</td>\n",
       "      <td>5.50%</td>\n",
       "      <td>1440-1570</td>\n",
       "      <td>32-35</td>\n",
       "    </tr>\n",
       "    <tr>\n",
       "      <th>3</th>\n",
       "      <td>Columbia University</td>\n",
       "      <td>Yes</td>\n",
       "      <td>2021</td>\n",
       "      <td>Columbia has adopted a one-year test optional ...</td>\n",
       "      <td>40203</td>\n",
       "      <td>5.50%</td>\n",
       "      <td>1450-1560</td>\n",
       "      <td>33-35</td>\n",
       "    </tr>\n",
       "    <tr>\n",
       "      <th>4</th>\n",
       "      <td>Yale University</td>\n",
       "      <td>Yes</td>\n",
       "      <td>2021</td>\n",
       "      <td>Yale has adopted a one-year test optional poli...</td>\n",
       "      <td>36844</td>\n",
       "      <td>6.10%</td>\n",
       "      <td>1460-1570</td>\n",
       "      <td>33-35</td>\n",
       "    </tr>\n",
       "  </tbody>\n",
       "</table>\n",
       "</div>"
      ],
      "text/plain": [
       "                 School Test Optional? Applies to Class Year(s)  \\\n",
       "0   Stanford University            Yes                     2021   \n",
       "1       Harvard College            Yes                     2021   \n",
       "2  Princeton University            Yes                     2021   \n",
       "3   Columbia University            Yes                     2021   \n",
       "4       Yale University            Yes                     2021   \n",
       "\n",
       "                                      Policy Details  Number of Applicants  \\\n",
       "0  Stanford has adopted a one-year test optional ...                 47452   \n",
       "1  Harvard has adopted a one-year test optional p...                 42749   \n",
       "2  Princeton has adopted a one-year test optional...                 35370   \n",
       "3  Columbia has adopted a one-year test optional ...                 40203   \n",
       "4  Yale has adopted a one-year test optional poli...                 36844   \n",
       "\n",
       "  Accept Rate SAT Total 25th-75th Percentile ACT Total 25th-75th Percentile  \n",
       "0       4.30%                      1440-1570                          32-35  \n",
       "1       4.70%                      1460-1580                          33-35  \n",
       "2       5.50%                      1440-1570                          32-35  \n",
       "3       5.50%                      1450-1560                          33-35  \n",
       "4       6.10%                      1460-1570                          33-35  "
      ]
     },
     "metadata": {},
     "output_type": "display_data"
    }
   ],
   "source": [
    "# Displaying data\n",
    "\n",
    "display(sat_2019.head())\n",
    "display(act_2019.head())\n",
    "display(act_2018.head())\n",
    "display(act_2018.head())\n",
    "display(act_2017.head())\n",
    "display(act_2017.head())\n",
    "display(sat_act_by_college.head())"
   ]
  },
  {
   "cell_type": "markdown",
   "metadata": {},
   "source": [
    "2. Check for missing values.\n",
    "<br> *Ignore 'Applies to Class Year(s)' since we will not be using it*"
   ]
  },
  {
   "cell_type": "code",
   "execution_count": 7,
   "metadata": {
    "scrolled": true
   },
   "outputs": [
    {
     "data": {
      "text/plain": [
       "State            0\n",
       "Participation    0\n",
       "Composite        0\n",
       "dtype: int64"
      ]
     },
     "metadata": {},
     "output_type": "display_data"
    },
    {
     "data": {
      "text/plain": [
       "State                 0\n",
       "Participation Rate    0\n",
       "EBRW                  0\n",
       "Math                  0\n",
       "Total                 0\n",
       "dtype: int64"
      ]
     },
     "metadata": {},
     "output_type": "display_data"
    },
    {
     "data": {
      "text/plain": [
       "State            0\n",
       "Participation    0\n",
       "Composite        0\n",
       "dtype: int64"
      ]
     },
     "metadata": {},
     "output_type": "display_data"
    },
    {
     "data": {
      "text/plain": [
       "State                                 0\n",
       "Participation                         0\n",
       "Evidence-Based Reading and Writing    0\n",
       "Math                                  0\n",
       "Total                                 0\n",
       "dtype: int64"
      ]
     },
     "metadata": {},
     "output_type": "display_data"
    },
    {
     "data": {
      "text/plain": [
       "State            0\n",
       "Participation    0\n",
       "English          0\n",
       "Math             0\n",
       "Reading          0\n",
       "Science          0\n",
       "Composite        0\n",
       "dtype: int64"
      ]
     },
     "metadata": {},
     "output_type": "display_data"
    },
    {
     "data": {
      "text/plain": [
       "State                                 0\n",
       "Participation                         0\n",
       "Evidence-Based Reading and Writing    0\n",
       "Math                                  0\n",
       "Total                                 0\n",
       "dtype: int64"
      ]
     },
     "metadata": {},
     "output_type": "display_data"
    },
    {
     "data": {
      "text/plain": [
       "School                             0\n",
       "Test Optional?                     0\n",
       "Applies to Class Year(s)          26\n",
       "Policy Details                     0\n",
       "Number of Applicants               0\n",
       "Accept Rate                        0\n",
       "SAT Total 25th-75th Percentile     0\n",
       "ACT Total 25th-75th Percentile     0\n",
       "dtype: int64"
      ]
     },
     "metadata": {},
     "output_type": "display_data"
    }
   ],
   "source": [
    "# Check for null values\n",
    "\n",
    "display(act_2019.isnull().sum())\n",
    "display(sat_2019.isnull().sum())\n",
    "display(act_2018.isnull().sum())\n",
    "display(sat_2018.isnull().sum())\n",
    "display(act_2017.isnull().sum())\n",
    "display(sat_2017.isnull().sum())\n",
    "display(sat_act_by_college.isnull().sum())\n"
   ]
  },
  {
   "cell_type": "markdown",
   "metadata": {},
   "source": [
    "3. Check for any obvious issues with the observations (keep in mind the minimum & maximum possible values for each test/subtest).\n",
    "<br> _Data looks consistent_"
   ]
  },
  {
   "cell_type": "code",
   "execution_count": 8,
   "metadata": {},
   "outputs": [
    {
     "data": {
      "text/html": [
       "<div>\n",
       "<style scoped>\n",
       "    .dataframe tbody tr th:only-of-type {\n",
       "        vertical-align: middle;\n",
       "    }\n",
       "\n",
       "    .dataframe tbody tr th {\n",
       "        vertical-align: top;\n",
       "    }\n",
       "\n",
       "    .dataframe thead th {\n",
       "        text-align: right;\n",
       "    }\n",
       "</style>\n",
       "<table border=\"1\" class=\"dataframe\">\n",
       "  <thead>\n",
       "    <tr style=\"text-align: right;\">\n",
       "      <th></th>\n",
       "      <th>Composite</th>\n",
       "    </tr>\n",
       "  </thead>\n",
       "  <tbody>\n",
       "    <tr>\n",
       "      <th>count</th>\n",
       "      <td>52.000000</td>\n",
       "    </tr>\n",
       "    <tr>\n",
       "      <th>mean</th>\n",
       "      <td>21.450000</td>\n",
       "    </tr>\n",
       "    <tr>\n",
       "      <th>std</th>\n",
       "      <td>2.175487</td>\n",
       "    </tr>\n",
       "    <tr>\n",
       "      <th>min</th>\n",
       "      <td>17.900000</td>\n",
       "    </tr>\n",
       "    <tr>\n",
       "      <th>25%</th>\n",
       "      <td>19.800000</td>\n",
       "    </tr>\n",
       "    <tr>\n",
       "      <th>50%</th>\n",
       "      <td>20.950000</td>\n",
       "    </tr>\n",
       "    <tr>\n",
       "      <th>75%</th>\n",
       "      <td>23.650000</td>\n",
       "    </tr>\n",
       "    <tr>\n",
       "      <th>max</th>\n",
       "      <td>25.500000</td>\n",
       "    </tr>\n",
       "  </tbody>\n",
       "</table>\n",
       "</div>"
      ],
      "text/plain": [
       "       Composite\n",
       "count  52.000000\n",
       "mean   21.450000\n",
       "std     2.175487\n",
       "min    17.900000\n",
       "25%    19.800000\n",
       "50%    20.950000\n",
       "75%    23.650000\n",
       "max    25.500000"
      ]
     },
     "metadata": {},
     "output_type": "display_data"
    },
    {
     "data": {
      "text/html": [
       "<div>\n",
       "<style scoped>\n",
       "    .dataframe tbody tr th:only-of-type {\n",
       "        vertical-align: middle;\n",
       "    }\n",
       "\n",
       "    .dataframe tbody tr th {\n",
       "        vertical-align: top;\n",
       "    }\n",
       "\n",
       "    .dataframe thead th {\n",
       "        text-align: right;\n",
       "    }\n",
       "</style>\n",
       "<table border=\"1\" class=\"dataframe\">\n",
       "  <thead>\n",
       "    <tr style=\"text-align: right;\">\n",
       "      <th></th>\n",
       "      <th>EBRW</th>\n",
       "      <th>Math</th>\n",
       "      <th>Total</th>\n",
       "    </tr>\n",
       "  </thead>\n",
       "  <tbody>\n",
       "    <tr>\n",
       "      <th>count</th>\n",
       "      <td>53.000000</td>\n",
       "      <td>53.000000</td>\n",
       "      <td>53.000000</td>\n",
       "    </tr>\n",
       "    <tr>\n",
       "      <th>mean</th>\n",
       "      <td>558.000000</td>\n",
       "      <td>548.471698</td>\n",
       "      <td>1106.528302</td>\n",
       "    </tr>\n",
       "    <tr>\n",
       "      <th>std</th>\n",
       "      <td>47.554422</td>\n",
       "      <td>53.785044</td>\n",
       "      <td>100.994784</td>\n",
       "    </tr>\n",
       "    <tr>\n",
       "      <th>min</th>\n",
       "      <td>483.000000</td>\n",
       "      <td>445.000000</td>\n",
       "      <td>935.000000</td>\n",
       "    </tr>\n",
       "    <tr>\n",
       "      <th>25%</th>\n",
       "      <td>518.000000</td>\n",
       "      <td>506.000000</td>\n",
       "      <td>1024.000000</td>\n",
       "    </tr>\n",
       "    <tr>\n",
       "      <th>50%</th>\n",
       "      <td>550.000000</td>\n",
       "      <td>545.000000</td>\n",
       "      <td>1097.000000</td>\n",
       "    </tr>\n",
       "    <tr>\n",
       "      <th>75%</th>\n",
       "      <td>610.000000</td>\n",
       "      <td>596.000000</td>\n",
       "      <td>1200.000000</td>\n",
       "    </tr>\n",
       "    <tr>\n",
       "      <th>max</th>\n",
       "      <td>636.000000</td>\n",
       "      <td>648.000000</td>\n",
       "      <td>1284.000000</td>\n",
       "    </tr>\n",
       "  </tbody>\n",
       "</table>\n",
       "</div>"
      ],
      "text/plain": [
       "             EBRW        Math        Total\n",
       "count   53.000000   53.000000    53.000000\n",
       "mean   558.000000  548.471698  1106.528302\n",
       "std     47.554422   53.785044   100.994784\n",
       "min    483.000000  445.000000   935.000000\n",
       "25%    518.000000  506.000000  1024.000000\n",
       "50%    550.000000  545.000000  1097.000000\n",
       "75%    610.000000  596.000000  1200.000000\n",
       "max    636.000000  648.000000  1284.000000"
      ]
     },
     "metadata": {},
     "output_type": "display_data"
    },
    {
     "data": {
      "text/html": [
       "<div>\n",
       "<style scoped>\n",
       "    .dataframe tbody tr th:only-of-type {\n",
       "        vertical-align: middle;\n",
       "    }\n",
       "\n",
       "    .dataframe tbody tr th {\n",
       "        vertical-align: top;\n",
       "    }\n",
       "\n",
       "    .dataframe thead th {\n",
       "        text-align: right;\n",
       "    }\n",
       "</style>\n",
       "<table border=\"1\" class=\"dataframe\">\n",
       "  <thead>\n",
       "    <tr style=\"text-align: right;\">\n",
       "      <th></th>\n",
       "      <th>Composite</th>\n",
       "    </tr>\n",
       "  </thead>\n",
       "  <tbody>\n",
       "    <tr>\n",
       "      <th>count</th>\n",
       "      <td>52.000000</td>\n",
       "    </tr>\n",
       "    <tr>\n",
       "      <th>mean</th>\n",
       "      <td>21.544231</td>\n",
       "    </tr>\n",
       "    <tr>\n",
       "      <th>std</th>\n",
       "      <td>2.119417</td>\n",
       "    </tr>\n",
       "    <tr>\n",
       "      <th>min</th>\n",
       "      <td>17.700000</td>\n",
       "    </tr>\n",
       "    <tr>\n",
       "      <th>25%</th>\n",
       "      <td>19.975000</td>\n",
       "    </tr>\n",
       "    <tr>\n",
       "      <th>50%</th>\n",
       "      <td>21.300000</td>\n",
       "    </tr>\n",
       "    <tr>\n",
       "      <th>75%</th>\n",
       "      <td>23.725000</td>\n",
       "    </tr>\n",
       "    <tr>\n",
       "      <th>max</th>\n",
       "      <td>25.600000</td>\n",
       "    </tr>\n",
       "  </tbody>\n",
       "</table>\n",
       "</div>"
      ],
      "text/plain": [
       "       Composite\n",
       "count  52.000000\n",
       "mean   21.544231\n",
       "std     2.119417\n",
       "min    17.700000\n",
       "25%    19.975000\n",
       "50%    21.300000\n",
       "75%    23.725000\n",
       "max    25.600000"
      ]
     },
     "metadata": {},
     "output_type": "display_data"
    },
    {
     "data": {
      "text/html": [
       "<div>\n",
       "<style scoped>\n",
       "    .dataframe tbody tr th:only-of-type {\n",
       "        vertical-align: middle;\n",
       "    }\n",
       "\n",
       "    .dataframe tbody tr th {\n",
       "        vertical-align: top;\n",
       "    }\n",
       "\n",
       "    .dataframe thead th {\n",
       "        text-align: right;\n",
       "    }\n",
       "</style>\n",
       "<table border=\"1\" class=\"dataframe\">\n",
       "  <thead>\n",
       "    <tr style=\"text-align: right;\">\n",
       "      <th></th>\n",
       "      <th>Evidence-Based Reading and Writing</th>\n",
       "      <th>Math</th>\n",
       "      <th>Total</th>\n",
       "    </tr>\n",
       "  </thead>\n",
       "  <tbody>\n",
       "    <tr>\n",
       "      <th>count</th>\n",
       "      <td>51.000000</td>\n",
       "      <td>51.000000</td>\n",
       "      <td>51.000000</td>\n",
       "    </tr>\n",
       "    <tr>\n",
       "      <th>mean</th>\n",
       "      <td>563.686275</td>\n",
       "      <td>556.235294</td>\n",
       "      <td>1120.019608</td>\n",
       "    </tr>\n",
       "    <tr>\n",
       "      <th>std</th>\n",
       "      <td>47.502627</td>\n",
       "      <td>47.772623</td>\n",
       "      <td>94.155083</td>\n",
       "    </tr>\n",
       "    <tr>\n",
       "      <th>min</th>\n",
       "      <td>480.000000</td>\n",
       "      <td>480.000000</td>\n",
       "      <td>977.000000</td>\n",
       "    </tr>\n",
       "    <tr>\n",
       "      <th>25%</th>\n",
       "      <td>534.500000</td>\n",
       "      <td>522.500000</td>\n",
       "      <td>1057.500000</td>\n",
       "    </tr>\n",
       "    <tr>\n",
       "      <th>50%</th>\n",
       "      <td>552.000000</td>\n",
       "      <td>544.000000</td>\n",
       "      <td>1098.000000</td>\n",
       "    </tr>\n",
       "    <tr>\n",
       "      <th>75%</th>\n",
       "      <td>610.500000</td>\n",
       "      <td>593.500000</td>\n",
       "      <td>1204.000000</td>\n",
       "    </tr>\n",
       "    <tr>\n",
       "      <th>max</th>\n",
       "      <td>643.000000</td>\n",
       "      <td>655.000000</td>\n",
       "      <td>1298.000000</td>\n",
       "    </tr>\n",
       "  </tbody>\n",
       "</table>\n",
       "</div>"
      ],
      "text/plain": [
       "       Evidence-Based Reading and Writing        Math        Total\n",
       "count                           51.000000   51.000000    51.000000\n",
       "mean                           563.686275  556.235294  1120.019608\n",
       "std                             47.502627   47.772623    94.155083\n",
       "min                            480.000000  480.000000   977.000000\n",
       "25%                            534.500000  522.500000  1057.500000\n",
       "50%                            552.000000  544.000000  1098.000000\n",
       "75%                            610.500000  593.500000  1204.000000\n",
       "max                            643.000000  655.000000  1298.000000"
      ]
     },
     "metadata": {},
     "output_type": "display_data"
    },
    {
     "data": {
      "text/html": [
       "<div>\n",
       "<style scoped>\n",
       "    .dataframe tbody tr th:only-of-type {\n",
       "        vertical-align: middle;\n",
       "    }\n",
       "\n",
       "    .dataframe tbody tr th {\n",
       "        vertical-align: top;\n",
       "    }\n",
       "\n",
       "    .dataframe thead th {\n",
       "        text-align: right;\n",
       "    }\n",
       "</style>\n",
       "<table border=\"1\" class=\"dataframe\">\n",
       "  <thead>\n",
       "    <tr style=\"text-align: right;\">\n",
       "      <th></th>\n",
       "      <th>English</th>\n",
       "      <th>Math</th>\n",
       "      <th>Reading</th>\n",
       "      <th>Science</th>\n",
       "    </tr>\n",
       "  </thead>\n",
       "  <tbody>\n",
       "    <tr>\n",
       "      <th>count</th>\n",
       "      <td>52.000000</td>\n",
       "      <td>52.000000</td>\n",
       "      <td>52.000000</td>\n",
       "      <td>52.000000</td>\n",
       "    </tr>\n",
       "    <tr>\n",
       "      <th>mean</th>\n",
       "      <td>20.919231</td>\n",
       "      <td>21.173077</td>\n",
       "      <td>22.001923</td>\n",
       "      <td>21.040385</td>\n",
       "    </tr>\n",
       "    <tr>\n",
       "      <th>std</th>\n",
       "      <td>2.332132</td>\n",
       "      <td>1.963602</td>\n",
       "      <td>2.048672</td>\n",
       "      <td>3.151113</td>\n",
       "    </tr>\n",
       "    <tr>\n",
       "      <th>min</th>\n",
       "      <td>16.300000</td>\n",
       "      <td>18.000000</td>\n",
       "      <td>18.100000</td>\n",
       "      <td>2.300000</td>\n",
       "    </tr>\n",
       "    <tr>\n",
       "      <th>25%</th>\n",
       "      <td>19.000000</td>\n",
       "      <td>19.400000</td>\n",
       "      <td>20.475000</td>\n",
       "      <td>19.900000</td>\n",
       "    </tr>\n",
       "    <tr>\n",
       "      <th>50%</th>\n",
       "      <td>20.550000</td>\n",
       "      <td>20.900000</td>\n",
       "      <td>21.700000</td>\n",
       "      <td>21.150000</td>\n",
       "    </tr>\n",
       "    <tr>\n",
       "      <th>75%</th>\n",
       "      <td>23.300000</td>\n",
       "      <td>23.100000</td>\n",
       "      <td>24.125000</td>\n",
       "      <td>22.525000</td>\n",
       "    </tr>\n",
       "    <tr>\n",
       "      <th>max</th>\n",
       "      <td>25.500000</td>\n",
       "      <td>25.300000</td>\n",
       "      <td>26.000000</td>\n",
       "      <td>24.900000</td>\n",
       "    </tr>\n",
       "  </tbody>\n",
       "</table>\n",
       "</div>"
      ],
      "text/plain": [
       "         English       Math    Reading    Science\n",
       "count  52.000000  52.000000  52.000000  52.000000\n",
       "mean   20.919231  21.173077  22.001923  21.040385\n",
       "std     2.332132   1.963602   2.048672   3.151113\n",
       "min    16.300000  18.000000  18.100000   2.300000\n",
       "25%    19.000000  19.400000  20.475000  19.900000\n",
       "50%    20.550000  20.900000  21.700000  21.150000\n",
       "75%    23.300000  23.100000  24.125000  22.525000\n",
       "max    25.500000  25.300000  26.000000  24.900000"
      ]
     },
     "metadata": {},
     "output_type": "display_data"
    },
    {
     "data": {
      "text/html": [
       "<div>\n",
       "<style scoped>\n",
       "    .dataframe tbody tr th:only-of-type {\n",
       "        vertical-align: middle;\n",
       "    }\n",
       "\n",
       "    .dataframe tbody tr th {\n",
       "        vertical-align: top;\n",
       "    }\n",
       "\n",
       "    .dataframe thead th {\n",
       "        text-align: right;\n",
       "    }\n",
       "</style>\n",
       "<table border=\"1\" class=\"dataframe\">\n",
       "  <thead>\n",
       "    <tr style=\"text-align: right;\">\n",
       "      <th></th>\n",
       "      <th>Evidence-Based Reading and Writing</th>\n",
       "      <th>Math</th>\n",
       "      <th>Total</th>\n",
       "    </tr>\n",
       "  </thead>\n",
       "  <tbody>\n",
       "    <tr>\n",
       "      <th>count</th>\n",
       "      <td>51.000000</td>\n",
       "      <td>51.000000</td>\n",
       "      <td>51.000000</td>\n",
       "    </tr>\n",
       "    <tr>\n",
       "      <th>mean</th>\n",
       "      <td>569.117647</td>\n",
       "      <td>547.627451</td>\n",
       "      <td>1126.098039</td>\n",
       "    </tr>\n",
       "    <tr>\n",
       "      <th>std</th>\n",
       "      <td>45.666901</td>\n",
       "      <td>84.909119</td>\n",
       "      <td>92.494812</td>\n",
       "    </tr>\n",
       "    <tr>\n",
       "      <th>min</th>\n",
       "      <td>482.000000</td>\n",
       "      <td>52.000000</td>\n",
       "      <td>950.000000</td>\n",
       "    </tr>\n",
       "    <tr>\n",
       "      <th>25%</th>\n",
       "      <td>533.500000</td>\n",
       "      <td>522.000000</td>\n",
       "      <td>1055.500000</td>\n",
       "    </tr>\n",
       "    <tr>\n",
       "      <th>50%</th>\n",
       "      <td>559.000000</td>\n",
       "      <td>548.000000</td>\n",
       "      <td>1107.000000</td>\n",
       "    </tr>\n",
       "    <tr>\n",
       "      <th>75%</th>\n",
       "      <td>613.000000</td>\n",
       "      <td>599.000000</td>\n",
       "      <td>1212.000000</td>\n",
       "    </tr>\n",
       "    <tr>\n",
       "      <th>max</th>\n",
       "      <td>644.000000</td>\n",
       "      <td>651.000000</td>\n",
       "      <td>1295.000000</td>\n",
       "    </tr>\n",
       "  </tbody>\n",
       "</table>\n",
       "</div>"
      ],
      "text/plain": [
       "       Evidence-Based Reading and Writing        Math        Total\n",
       "count                           51.000000   51.000000    51.000000\n",
       "mean                           569.117647  547.627451  1126.098039\n",
       "std                             45.666901   84.909119    92.494812\n",
       "min                            482.000000   52.000000   950.000000\n",
       "25%                            533.500000  522.000000  1055.500000\n",
       "50%                            559.000000  548.000000  1107.000000\n",
       "75%                            613.000000  599.000000  1212.000000\n",
       "max                            644.000000  651.000000  1295.000000"
      ]
     },
     "metadata": {},
     "output_type": "display_data"
    },
    {
     "data": {
      "text/html": [
       "<div>\n",
       "<style scoped>\n",
       "    .dataframe tbody tr th:only-of-type {\n",
       "        vertical-align: middle;\n",
       "    }\n",
       "\n",
       "    .dataframe tbody tr th {\n",
       "        vertical-align: top;\n",
       "    }\n",
       "\n",
       "    .dataframe thead th {\n",
       "        text-align: right;\n",
       "    }\n",
       "</style>\n",
       "<table border=\"1\" class=\"dataframe\">\n",
       "  <thead>\n",
       "    <tr style=\"text-align: right;\">\n",
       "      <th></th>\n",
       "      <th>Number of Applicants</th>\n",
       "    </tr>\n",
       "  </thead>\n",
       "  <tbody>\n",
       "    <tr>\n",
       "      <th>count</th>\n",
       "      <td>416.000000</td>\n",
       "    </tr>\n",
       "    <tr>\n",
       "      <th>mean</th>\n",
       "      <td>17481.759615</td>\n",
       "    </tr>\n",
       "    <tr>\n",
       "      <th>std</th>\n",
       "      <td>17447.621897</td>\n",
       "    </tr>\n",
       "    <tr>\n",
       "      <th>min</th>\n",
       "      <td>211.000000</td>\n",
       "    </tr>\n",
       "    <tr>\n",
       "      <th>25%</th>\n",
       "      <td>5313.000000</td>\n",
       "    </tr>\n",
       "    <tr>\n",
       "      <th>50%</th>\n",
       "      <td>11622.000000</td>\n",
       "    </tr>\n",
       "    <tr>\n",
       "      <th>75%</th>\n",
       "      <td>23599.750000</td>\n",
       "    </tr>\n",
       "    <tr>\n",
       "      <th>max</th>\n",
       "      <td>111322.000000</td>\n",
       "    </tr>\n",
       "  </tbody>\n",
       "</table>\n",
       "</div>"
      ],
      "text/plain": [
       "       Number of Applicants\n",
       "count            416.000000\n",
       "mean           17481.759615\n",
       "std            17447.621897\n",
       "min              211.000000\n",
       "25%             5313.000000\n",
       "50%            11622.000000\n",
       "75%            23599.750000\n",
       "max           111322.000000"
      ]
     },
     "metadata": {},
     "output_type": "display_data"
    }
   ],
   "source": [
    "display(act_2019.describe())\n",
    "display(sat_2019.describe())\n",
    "display(act_2018.describe())\n",
    "display(sat_2018.describe())\n",
    "display(act_2017.describe())\n",
    "display(sat_2017.describe())\n",
    "display(sat_act_by_college.describe())"
   ]
  },
  {
   "cell_type": "markdown",
   "metadata": {},
   "source": [
    "5. Display the data types of each feature."
   ]
  },
  {
   "cell_type": "code",
   "execution_count": 9,
   "metadata": {},
   "outputs": [
    {
     "name": "stdout",
     "output_type": "stream",
     "text": [
      "<class 'pandas.core.frame.DataFrame'>\n",
      "RangeIndex: 52 entries, 0 to 51\n",
      "Data columns (total 3 columns):\n",
      " #   Column         Non-Null Count  Dtype  \n",
      "---  ------         --------------  -----  \n",
      " 0   State          52 non-null     object \n",
      " 1   Participation  52 non-null     object \n",
      " 2   Composite      52 non-null     float64\n",
      "dtypes: float64(1), object(2)\n",
      "memory usage: 1.3+ KB\n"
     ]
    },
    {
     "data": {
      "text/plain": [
       "None"
      ]
     },
     "metadata": {},
     "output_type": "display_data"
    },
    {
     "name": "stdout",
     "output_type": "stream",
     "text": [
      "<class 'pandas.core.frame.DataFrame'>\n",
      "RangeIndex: 53 entries, 0 to 52\n",
      "Data columns (total 5 columns):\n",
      " #   Column              Non-Null Count  Dtype \n",
      "---  ------              --------------  ----- \n",
      " 0   State               53 non-null     object\n",
      " 1   Participation Rate  53 non-null     object\n",
      " 2   EBRW                53 non-null     int64 \n",
      " 3   Math                53 non-null     int64 \n",
      " 4   Total               53 non-null     int64 \n",
      "dtypes: int64(3), object(2)\n",
      "memory usage: 2.2+ KB\n"
     ]
    },
    {
     "data": {
      "text/plain": [
       "None"
      ]
     },
     "metadata": {},
     "output_type": "display_data"
    },
    {
     "name": "stdout",
     "output_type": "stream",
     "text": [
      "<class 'pandas.core.frame.DataFrame'>\n",
      "RangeIndex: 52 entries, 0 to 51\n",
      "Data columns (total 3 columns):\n",
      " #   Column         Non-Null Count  Dtype  \n",
      "---  ------         --------------  -----  \n",
      " 0   State          52 non-null     object \n",
      " 1   Participation  52 non-null     object \n",
      " 2   Composite      52 non-null     float64\n",
      "dtypes: float64(1), object(2)\n",
      "memory usage: 1.3+ KB\n"
     ]
    },
    {
     "data": {
      "text/plain": [
       "None"
      ]
     },
     "metadata": {},
     "output_type": "display_data"
    },
    {
     "name": "stdout",
     "output_type": "stream",
     "text": [
      "<class 'pandas.core.frame.DataFrame'>\n",
      "RangeIndex: 51 entries, 0 to 50\n",
      "Data columns (total 5 columns):\n",
      " #   Column                              Non-Null Count  Dtype \n",
      "---  ------                              --------------  ----- \n",
      " 0   State                               51 non-null     object\n",
      " 1   Participation                       51 non-null     object\n",
      " 2   Evidence-Based Reading and Writing  51 non-null     int64 \n",
      " 3   Math                                51 non-null     int64 \n",
      " 4   Total                               51 non-null     int64 \n",
      "dtypes: int64(3), object(2)\n",
      "memory usage: 2.1+ KB\n"
     ]
    },
    {
     "data": {
      "text/plain": [
       "None"
      ]
     },
     "metadata": {},
     "output_type": "display_data"
    },
    {
     "name": "stdout",
     "output_type": "stream",
     "text": [
      "<class 'pandas.core.frame.DataFrame'>\n",
      "RangeIndex: 52 entries, 0 to 51\n",
      "Data columns (total 7 columns):\n",
      " #   Column         Non-Null Count  Dtype  \n",
      "---  ------         --------------  -----  \n",
      " 0   State          52 non-null     object \n",
      " 1   Participation  52 non-null     object \n",
      " 2   English        52 non-null     float64\n",
      " 3   Math           52 non-null     float64\n",
      " 4   Reading        52 non-null     float64\n",
      " 5   Science        52 non-null     float64\n",
      " 6   Composite      52 non-null     object \n",
      "dtypes: float64(4), object(3)\n",
      "memory usage: 3.0+ KB\n"
     ]
    },
    {
     "data": {
      "text/plain": [
       "None"
      ]
     },
     "metadata": {},
     "output_type": "display_data"
    },
    {
     "name": "stdout",
     "output_type": "stream",
     "text": [
      "<class 'pandas.core.frame.DataFrame'>\n",
      "RangeIndex: 51 entries, 0 to 50\n",
      "Data columns (total 5 columns):\n",
      " #   Column                              Non-Null Count  Dtype \n",
      "---  ------                              --------------  ----- \n",
      " 0   State                               51 non-null     object\n",
      " 1   Participation                       51 non-null     object\n",
      " 2   Evidence-Based Reading and Writing  51 non-null     int64 \n",
      " 3   Math                                51 non-null     int64 \n",
      " 4   Total                               51 non-null     int64 \n",
      "dtypes: int64(3), object(2)\n",
      "memory usage: 2.1+ KB\n"
     ]
    },
    {
     "data": {
      "text/plain": [
       "None"
      ]
     },
     "metadata": {},
     "output_type": "display_data"
    },
    {
     "name": "stdout",
     "output_type": "stream",
     "text": [
      "<class 'pandas.core.frame.DataFrame'>\n",
      "RangeIndex: 416 entries, 0 to 415\n",
      "Data columns (total 8 columns):\n",
      " #   Column                          Non-Null Count  Dtype \n",
      "---  ------                          --------------  ----- \n",
      " 0   School                          416 non-null    object\n",
      " 1   Test Optional?                  416 non-null    object\n",
      " 2   Applies to Class Year(s)        390 non-null    object\n",
      " 3   Policy Details                  416 non-null    object\n",
      " 4   Number of Applicants            416 non-null    int64 \n",
      " 5   Accept Rate                     416 non-null    object\n",
      " 6   SAT Total 25th-75th Percentile  416 non-null    object\n",
      " 7   ACT Total 25th-75th Percentile  416 non-null    object\n",
      "dtypes: int64(1), object(7)\n",
      "memory usage: 26.1+ KB\n"
     ]
    },
    {
     "data": {
      "text/plain": [
       "None"
      ]
     },
     "metadata": {},
     "output_type": "display_data"
    }
   ],
   "source": [
    "# Display data types\n",
    "\n",
    "display(act_2019.info())\n",
    "display(sat_2019.info())\n",
    "display(act_2018.info())\n",
    "display(sat_2018.info())\n",
    "display(act_2017.info())\n",
    "display(sat_2017.info())\n",
    "display(sat_act_by_college.info())"
   ]
  },
  {
   "cell_type": "markdown",
   "metadata": {},
   "source": [
    "6. Fix any incorrect data types found in step 5\n",
    "<br> _Convert string/object to float_\n",
    "<br> _Convert string ranges to individual columns with float_"
   ]
  },
  {
   "cell_type": "code",
   "execution_count": 10,
   "metadata": {},
   "outputs": [],
   "source": [
    "# Convert str to float\n",
    "\n",
    "# 2019 test scores\n",
    "act_2019['Participation'] = act_2019['Participation'].map(str_to_float)\n",
    "sat_2019['Participation Rate'] = sat_2019['Participation Rate'].map(str_to_float)\n",
    "\n",
    "# 2018 test scores\n",
    "act_2018['Participation'] = act_2018['Participation'].map(str_to_float)\n",
    "sat_2018['Participation'] = sat_2018['Participation'].map(str_to_float)\n",
    "\n",
    "# 2017 test scores\n",
    "act_2017['Participation'] = act_2017['Participation'].map(str_to_float)\n",
    "act_2017['Composite'] = pd.to_numeric(act_2017['Composite'], errors='coerce') # act_2017 Composite dtype changed from object to float\n",
    "sat_2017['Participation'] = sat_2017['Participation'].map(str_to_float)\n",
    "\n",
    "# Test scores by college\n",
    "sat_act_by_college['Accept Rate'] = sat_act_by_college['Accept Rate'].map(str_to_float)\n"
   ]
  },
  {
   "cell_type": "code",
   "execution_count": 11,
   "metadata": {},
   "outputs": [
    {
     "name": "stdout",
     "output_type": "stream",
     "text": [
      "<class 'pandas.core.frame.DataFrame'>\n",
      "RangeIndex: 416 entries, 0 to 415\n",
      "Data columns (total 10 columns):\n",
      " #   Column                    Non-Null Count  Dtype  \n",
      "---  ------                    --------------  -----  \n",
      " 0   School                    416 non-null    object \n",
      " 1   Test Optional?            416 non-null    object \n",
      " 2   Applies to Class Year(s)  390 non-null    object \n",
      " 3   Policy Details            416 non-null    object \n",
      " 4   Number of Applicants      416 non-null    int64  \n",
      " 5   Accept Rate               416 non-null    float64\n",
      " 6   sat_25th_percentile       410 non-null    float64\n",
      " 7   sat_75th_percentile       410 non-null    float64\n",
      " 8   act_25th_percentile       410 non-null    float64\n",
      " 9   act_75th_percentile       410 non-null    float64\n",
      "dtypes: float64(5), int64(1), object(4)\n",
      "memory usage: 32.6+ KB\n"
     ]
    },
    {
     "name": "stderr",
     "output_type": "stream",
     "text": [
      "/Users/eugenekhoo/opt/anaconda3/lib/python3.7/site-packages/ipykernel_launcher.py:14: SettingWithCopyWarning: \n",
      "A value is trying to be set on a copy of a slice from a DataFrame\n",
      "\n",
      "See the caveats in the documentation: https://pandas.pydata.org/pandas-docs/stable/user_guide/indexing.html#returning-a-view-versus-a-copy\n",
      "  \n",
      "/Users/eugenekhoo/opt/anaconda3/lib/python3.7/site-packages/ipykernel_launcher.py:15: SettingWithCopyWarning: \n",
      "A value is trying to be set on a copy of a slice from a DataFrame\n",
      "\n",
      "See the caveats in the documentation: https://pandas.pydata.org/pandas-docs/stable/user_guide/indexing.html#returning-a-view-versus-a-copy\n",
      "  from ipykernel import kernelapp as app\n",
      "/Users/eugenekhoo/opt/anaconda3/lib/python3.7/site-packages/pandas/core/indexing.py:670: SettingWithCopyWarning: \n",
      "A value is trying to be set on a copy of a slice from a DataFrame\n",
      "\n",
      "See the caveats in the documentation: https://pandas.pydata.org/pandas-docs/stable/user_guide/indexing.html#returning-a-view-versus-a-copy\n",
      "  self._setitem_with_indexer(indexer, value)\n",
      "/Users/eugenekhoo/opt/anaconda3/lib/python3.7/site-packages/ipykernel_launcher.py:18: SettingWithCopyWarning: \n",
      "A value is trying to be set on a copy of a slice from a DataFrame\n",
      "\n",
      "See the caveats in the documentation: https://pandas.pydata.org/pandas-docs/stable/user_guide/indexing.html#returning-a-view-versus-a-copy\n",
      "/Users/eugenekhoo/opt/anaconda3/lib/python3.7/site-packages/ipykernel_launcher.py:19: SettingWithCopyWarning: \n",
      "A value is trying to be set on a copy of a slice from a DataFrame\n",
      "\n",
      "See the caveats in the documentation: https://pandas.pydata.org/pandas-docs/stable/user_guide/indexing.html#returning-a-view-versus-a-copy\n"
     ]
    }
   ],
   "source": [
    "# Clean sat_act_by_college\n",
    "# Split the SAT and ACT score ranges into individual columns and convert to float dtype\n",
    "\n",
    "# Create new columns\n",
    "\n",
    "sat_act_by_college['sat_25th_percentile'] = 0\n",
    "sat_act_by_college['sat_75th_percentile'] = 0\n",
    "sat_act_by_college['act_25th_percentile'] = 0\n",
    "sat_act_by_college['act_75th_percentile'] = 0\n",
    "\n",
    "# Split ranges into individual columns\n",
    "\n",
    "for x in range(len(sat_act_by_college)):\n",
    "    sat_act_by_college['sat_25th_percentile'][x] = sat_act_by_college['SAT Total 25th-75th Percentile'][x].split('-')[0]\n",
    "    sat_act_by_college['act_25th_percentile'][x] = sat_act_by_college['ACT Total 25th-75th Percentile'][x].split('-')[0]\n",
    "\n",
    "for x in range(len(sat_act_by_college)):\n",
    "    sat_act_by_college['sat_75th_percentile'][x] = sat_act_by_college['SAT Total 25th-75th Percentile'][x].split('-')[1]\n",
    "    sat_act_by_college['act_75th_percentile'][x] = sat_act_by_college['ACT Total 25th-75th Percentile'][x].split('-')[1]\n",
    "\n",
    "# Convert object dtype to float\n",
    "\n",
    "sat_act_by_college['sat_25th_percentile'] = pd.to_numeric(sat_act_by_college['sat_25th_percentile'], errors='coerce')\n",
    "sat_act_by_college['sat_75th_percentile'] = pd.to_numeric(sat_act_by_college['sat_75th_percentile'], errors='coerce')\n",
    "sat_act_by_college['act_25th_percentile'] = pd.to_numeric(sat_act_by_college['act_25th_percentile'], errors='coerce')\n",
    "sat_act_by_college['act_75th_percentile'] = pd.to_numeric(sat_act_by_college['act_75th_percentile'], errors='coerce')\n",
    "\n",
    "# Drop useless columns\n",
    "\n",
    "sat_act_by_college.drop(['SAT Total 25th-75th Percentile', 'ACT Total 25th-75th Percentile'], axis=1, inplace=True)\n",
    "\n",
    "sat_act_by_college.info()"
   ]
  },
  {
   "cell_type": "markdown",
   "metadata": {},
   "source": [
    "7. Rename Columns.\n",
    "<br> _Convert all to lower case and replace spaces with underscore_\n",
    "<br> _Rename columns to to prep for merge_"
   ]
  },
  {
   "cell_type": "code",
   "execution_count": 12,
   "metadata": {},
   "outputs": [],
   "source": [
    "# Rename columns to lower case, replace spaces with underscore\n",
    "\n",
    "# 2019 test scores\n",
    "sat_2019.columns = sat_2019.columns.str.lower().str.replace(' ','_')\n",
    "act_2019.columns = act_2019.columns.str.lower().str.replace(' ','_')\n",
    "\n",
    "# 2018 test scores\n",
    "sat_2018.columns = sat_2018.columns.str.lower().str.replace(' ','_')\n",
    "act_2018.columns = act_2018.columns.str.lower().str.replace(' ','_')\n",
    "\n",
    "#2017 test scores\n",
    "sat_2017.columns = sat_2017.columns.str.lower().str.replace(' ','_')\n",
    "act_2017.columns = act_2017.columns.str.lower().str.replace(' ','_')\n",
    "\n",
    "# Test scores by college\n",
    "sat_act_by_college.columns = sat_act_by_college.columns.str.lower().str.replace(' ','_')"
   ]
  },
  {
   "cell_type": "code",
   "execution_count": 13,
   "metadata": {},
   "outputs": [],
   "source": [
    "# Rename columns to avoid duplicate column names after merging\n",
    "\n",
    "sat_2019.rename(columns={\n",
    "    'ebrw' : 'sat_ebrw',\n",
    "    'math' : 'sat_math',\n",
    "    'total' : 'sat_total',\n",
    "    'participation_rate' : 'sat_participation',\n",
    "},inplace=True)\n",
    "\n",
    "sat_2018.rename(columns={\n",
    "    'evidence-based_reading_and_writing' : 'sat_ebrw',\n",
    "    'math' : 'sat_math',\n",
    "    'total' : 'sat_total',\n",
    "    'participation' : 'sat_participation',\n",
    "},inplace=True)\n",
    "\n",
    "sat_2017.rename(columns={\n",
    "    'evidence-based_reading_and_writing' : 'sat_ebrw',\n",
    "    'math' : 'sat_math',\n",
    "    'total' : 'sat_total',\n",
    "    'participation' : 'sat_participation',\n",
    "},inplace=True)\n",
    "\n",
    "act_2019.rename(columns={\n",
    "    'composite' : 'act_composite',\n",
    "    'participation' : 'act_participation'\n",
    "},inplace=True)\n",
    "\n",
    "act_2018.rename(columns={\n",
    "    'composite' : 'act_composite',\n",
    "    'participation' : 'act_participation'\n",
    "},inplace=True)\n",
    "\n",
    "act_2017.rename(columns={\n",
    "    'composite' : 'act_composite',\n",
    "    'participation' : 'act_participation'\n",
    "},inplace=True)\n",
    "\n",
    "# Drop extra test scores in act_2017\n",
    "\n",
    "act_2017.drop(['english','math','reading','science'], axis=1, inplace=True)"
   ]
  },
  {
   "cell_type": "markdown",
   "metadata": {},
   "source": [
    "9. Merge dataframes that can be merged.\n",
    "<br> _Merge test scores cross-sectionally then by time_"
   ]
  },
  {
   "cell_type": "code",
   "execution_count": 14,
   "metadata": {
    "scrolled": false
   },
   "outputs": [],
   "source": [
    "# Merge SAT and ACT scores - cross sectional\n",
    "\n",
    "merged_scores_2019 = pd.merge(sat_2019, act_2019)\n",
    "merged_scores_2018 = pd.merge(sat_2018, act_2018)\n",
    "merged_scores_2017 = pd.merge(sat_2017, act_2017)\n"
   ]
  },
  {
   "cell_type": "code",
   "execution_count": 15,
   "metadata": {},
   "outputs": [],
   "source": [
    "# Add date column and concatenate merged_score tables\n",
    "\n",
    "merged_scores_2019['year'] = pd.to_datetime('2019-01-01')\n",
    "merged_scores_2018['year'] = pd.to_datetime('2018-01-01')\n",
    "merged_scores_2017['year'] = pd.to_datetime('2017-01-01')\n",
    "\n",
    "\n",
    "# Concatenate merged_scores to create 'timeseries'\n",
    "\n",
    "merged_scores_all = pd.concat([merged_scores_2017, merged_scores_2018, merged_scores_2019], ignore_index=True)\n",
    "merged_scores_all['year'] = merged_scores_all.year.dt.year # Converting datetime format to int for cleaner presentation"
   ]
  },
  {
   "cell_type": "code",
   "execution_count": 16,
   "metadata": {
    "scrolled": true
   },
   "outputs": [
    {
     "name": "stdout",
     "output_type": "stream",
     "text": [
      "<class 'pandas.core.frame.DataFrame'>\n",
      "Int64Index: 51 entries, 0 to 50\n",
      "Data columns (total 8 columns):\n",
      " #   Column             Non-Null Count  Dtype         \n",
      "---  ------             --------------  -----         \n",
      " 0   state              51 non-null     object        \n",
      " 1   sat_participation  51 non-null     float64       \n",
      " 2   sat_ebrw           51 non-null     int64         \n",
      " 3   sat_math           51 non-null     int64         \n",
      " 4   sat_total          51 non-null     int64         \n",
      " 5   act_participation  51 non-null     float64       \n",
      " 6   act_composite      51 non-null     float64       \n",
      " 7   year               51 non-null     datetime64[ns]\n",
      "dtypes: datetime64[ns](1), float64(3), int64(3), object(1)\n",
      "memory usage: 3.6+ KB\n"
     ]
    },
    {
     "data": {
      "text/plain": [
       "None"
      ]
     },
     "metadata": {},
     "output_type": "display_data"
    },
    {
     "name": "stdout",
     "output_type": "stream",
     "text": [
      "<class 'pandas.core.frame.DataFrame'>\n",
      "RangeIndex: 153 entries, 0 to 152\n",
      "Data columns (total 8 columns):\n",
      " #   Column             Non-Null Count  Dtype  \n",
      "---  ------             --------------  -----  \n",
      " 0   state              153 non-null    object \n",
      " 1   sat_participation  153 non-null    float64\n",
      " 2   sat_ebrw           153 non-null    int64  \n",
      " 3   sat_math           153 non-null    int64  \n",
      " 4   sat_total          153 non-null    int64  \n",
      " 5   act_participation  153 non-null    float64\n",
      " 6   act_composite      152 non-null    float64\n",
      " 7   year               153 non-null    int64  \n",
      "dtypes: float64(3), int64(4), object(1)\n",
      "memory usage: 9.7+ KB\n"
     ]
    },
    {
     "data": {
      "text/plain": [
       "None"
      ]
     },
     "metadata": {},
     "output_type": "display_data"
    }
   ],
   "source": [
    "display(merged_scores_2019.info())\n",
    "display(merged_scores_all.info())"
   ]
  },
  {
   "cell_type": "markdown",
   "metadata": {},
   "source": [
    "10. Perform any additional cleaning that you feel is necessary.\n",
    "<br> _Create a dictionary to display the number of schools that the average student in each state 'qualifies' for_\n",
    "<br> _'Qualifies' defined by: test score > 25th percentile score_\n",
    "<br> _Refer to this statistic as 'School Qualification Count'_"
   ]
  },
  {
   "cell_type": "code",
   "execution_count": 17,
   "metadata": {
    "scrolled": true
   },
   "outputs": [
    {
     "data": {
      "text/plain": [
       "{'Alabama': 198,\n",
       " 'Alaska': 136,\n",
       " 'Arizona': 185,\n",
       " 'Arkansas': 196,\n",
       " 'California': 92,\n",
       " 'Colorado': 47,\n",
       " 'Connecticut': 70,\n",
       " 'Delaware': 14,\n",
       " 'District of Columbia': 12,\n",
       " 'Florida': 26,\n",
       " 'Georgia': 82,\n",
       " 'Hawaii': 147,\n",
       " 'Idaho': 26,\n",
       " 'Illinois': 42,\n",
       " 'Indiana': 127,\n",
       " 'Iowa': 302,\n",
       " 'Kansas': 302,\n",
       " 'Kentucky': 292,\n",
       " 'Louisiana': 266,\n",
       " 'Maine': 42,\n",
       " 'Maryland': 82,\n",
       " 'Massachusetts': 172,\n",
       " 'Michigan': 31,\n",
       " 'Minnesota': 332,\n",
       " 'Mississippi': 292,\n",
       " 'Missouri': 292,\n",
       " 'Montana': 257,\n",
       " 'Nebraska': 317,\n",
       " 'Nevada': 214,\n",
       " 'New Hampshire': 82,\n",
       " 'New Jersey': 136,\n",
       " 'New Mexico': 112,\n",
       " 'New York': 92,\n",
       " 'North Carolina': 147,\n",
       " 'North Dakota': 317,\n",
       " 'Ohio': 136,\n",
       " 'Oklahoma': 11,\n",
       " 'Oregon': 159,\n",
       " 'Pennsylvania': 127,\n",
       " 'Rhode Island': 26,\n",
       " 'South Carolina': 57,\n",
       " 'South Dakota': 317,\n",
       " 'Tennessee': 286,\n",
       " 'Texas': 47,\n",
       " 'Utah': 292,\n",
       " 'Vermont': 147,\n",
       " 'Virginia': 159,\n",
       " 'Washington': 112,\n",
       " 'West Virginia': 7,\n",
       " 'Wisconsin': 332,\n",
       " 'Wyoming': 292}"
      ]
     },
     "metadata": {},
     "output_type": "display_data"
    },
    {
     "data": {
      "text/plain": [
       "{'Alabama': 17,\n",
       " 'Alaska': 60,\n",
       " 'Arizona': 37,\n",
       " 'Arkansas': 38,\n",
       " 'California': 141,\n",
       " 'Colorado': 176,\n",
       " 'Connecticut': 250,\n",
       " 'Delaware': 210,\n",
       " 'District of Columbia': 176,\n",
       " 'Florida': 60,\n",
       " 'Georgia': 90,\n",
       " 'Hawaii': 37,\n",
       " 'Idaho': 141,\n",
       " 'Illinois': 210,\n",
       " 'Indiana': 141,\n",
       " 'Iowa': 90,\n",
       " 'Kansas': 90,\n",
       " 'Kentucky': 38,\n",
       " 'Louisiana': 17,\n",
       " 'Maine': 210,\n",
       " 'Maryland': 141,\n",
       " 'Massachusetts': 250,\n",
       " 'Michigan': 210,\n",
       " 'Minnesota': 90,\n",
       " 'Mississippi': 17,\n",
       " 'Missouri': 60,\n",
       " 'Montana': 38,\n",
       " 'Nebraska': 60,\n",
       " 'Nevada': 13,\n",
       " 'New Hampshire': 250,\n",
       " 'New Jersey': 210,\n",
       " 'New Mexico': 38,\n",
       " 'New York': 210,\n",
       " 'North Carolina': 37,\n",
       " 'North Dakota': 38,\n",
       " 'Ohio': 60,\n",
       " 'Oklahoma': 17,\n",
       " 'Oregon': 90,\n",
       " 'Pennsylvania': 176,\n",
       " 'Rhode Island': 210,\n",
       " 'South Carolina': 17,\n",
       " 'South Dakota': 90,\n",
       " 'Tennessee': 38,\n",
       " 'Texas': 60,\n",
       " 'Utah': 60,\n",
       " 'Vermont': 210,\n",
       " 'Virginia': 210,\n",
       " 'Washington': 141,\n",
       " 'West Virginia': 60,\n",
       " 'Wisconsin': 60,\n",
       " 'Wyoming': 38}"
      ]
     },
     "metadata": {},
     "output_type": "display_data"
    }
   ],
   "source": [
    "# Identify the admission prospects of students by state and test type\n",
    "\n",
    "# Create a dictionary to store the number of schools where students from each state meet the 25th percentile threshold (proxy for admission)\n",
    "\n",
    "# Create empty dictionary\n",
    "prospective_students_sat = {}\n",
    "prospective_students_act = {}\n",
    "\n",
    "# Populate dictionary with key: state, value: zero\n",
    "for state in merged_scores_2019['state']:\n",
    "    prospective_students_sat[state] = 0\n",
    "    prospective_students_act[state] = 0\n",
    "\n",
    "# Find the number of schools where the average test score is greater than or equal to the 25th percentile scores\n",
    "\n",
    "for state in prospective_students_sat.keys():\n",
    "    for school in sat_act_by_college['school']:\n",
    "        if merged_scores_2019.loc[merged_scores_2019['state'] == state].sat_total.values >= sat_act_by_college.loc[sat_act_by_college['school'] == school].sat_25th_percentile.values:\n",
    "            prospective_students_sat[state] += 1\n",
    "\n",
    "for state in prospective_students_act.keys():\n",
    "    for school in sat_act_by_college['school']:\n",
    "        if merged_scores_2019.loc[merged_scores_2019['state'] == state].act_composite.values >= sat_act_by_college.loc[sat_act_by_college['school'] == school].act_25th_percentile.values:\n",
    "            prospective_students_act[state] += 1            \n",
    "\n",
    "display(prospective_students_sat)\n",
    "display(prospective_students_act)"
   ]
  },
  {
   "cell_type": "markdown",
   "metadata": {},
   "source": [
    "11. Save your cleaned and merged dataframes as csv files."
   ]
  },
  {
   "cell_type": "code",
   "execution_count": 18,
   "metadata": {},
   "outputs": [],
   "source": [
    "merged_scores_all.to_csv(r'../data/merged_scores_all.csv')\n",
    "sat_act_by_college.to_csv(r'../data/sat_act_by_college_clean.csv')"
   ]
  },
  {
   "cell_type": "markdown",
   "metadata": {},
   "source": [
    "### Data Dictionary\n",
    "\n",
    "Now that we've fixed our data, and given it appropriate names, let's create a [data dictionary](http://library.ucmerced.edu/node/10249). \n",
    "\n",
    "A data dictionary provides a quick overview of features/variables/columns, alongside data types and descriptions. The more descriptive you can be, the more useful this document is.\n",
    "\n",
    "Example of a Fictional Data Dictionary Entry: \n",
    "\n",
    "|Feature|Type|Dataset|Description|\n",
    "|---|---|---|---|\n",
    "|**county_pop**|*integer*|2010 census|The population of the county (units in thousands, where 2.5 represents 2500 people).| \n",
    "|**per_poverty**|*float*|2010 census|The percent of the county over the age of 18 living below the 200% of official US poverty rate (units percent to two decimal places 98.10 means 98.1%)|\n",
    "\n",
    "[Here's a quick link to a short guide for formatting markdown in Jupyter notebooks](https://jupyter-notebook.readthedocs.io/en/stable/examples/Notebook/Working%20With%20Markdown%20Cells.html).\n",
    "\n",
    "Provided is the skeleton for formatting a markdown table, with columns headers that will help you create a data dictionary to quickly summarize your data, as well as some examples. **This would be a great thing to copy and paste into your custom README for this project.**\n",
    "\n",
    "*Note*: if you are unsure of what a feature is, check the source of the data! This can be found in the README."
   ]
  },
  {
   "cell_type": "markdown",
   "metadata": {},
   "source": [
    "\n",
    "|Feature|Type|Dataset|Description|\n",
    "|---|---|---|---|\n",
    "|__state__|object|merged_scores_{}|State|\n",
    "|__sat_ebrw__|int|merged_scores_{}|(SAT) Evidence-Based Reading and Writing|\n",
    "|__sat_math__|int|merged_scores_{}|(SAT) Math|\n",
    "|__sat_total__|int|merged_scores_{}|Total SAT Score|\n",
    "|__sat_participation__|float|merged_scores_{}|SAT Participation Rate (by Seniors)|\n",
    "|__act_composite__|float|merged_scores_{}|ACT Composite Scores|\n",
    "|__act_participation__|float|merged_scores_{}|ACT Participation Rate (by Seniors)|\n",
    "|__school__|object|sat_act_by_college|University name|\n",
    "|__number_of_applicants__|float|sat_act_by_college|Number of applicants|\n",
    "|__accept_rate__|float|sat_act_by_college|Acceptance rate|\n",
    "|__sat_25th_percentile__|float|sat_act_by_college|SAT score at 25th percentile|\n",
    "|__sat_75th_percentile__|float|sat_act_by_college|SAT score at 75th percentile|\n",
    "|__act_25th_percentile__|float|sat_act_by_college|ACT score at 25th percentile|\n",
    "|__act_75th_percentile__|float|sat_act_by_college|ACT score at 75th percentile|\n"
   ]
  },
  {
   "cell_type": "markdown",
   "metadata": {},
   "source": [
    "## Exploratory Data Analysis\n",
    "\n",
    "Complete the following steps to explore your data. You are welcome to do more EDA than the steps outlined here as you feel necessary:\n",
    "1. Summary Statistics.\n",
    "2. Use a **dictionary comprehension** to apply the standard deviation function you create in part 1 to each numeric column in the dataframe.  **No loops**.\n",
    "    - Assign the output to variable `sd` as a dictionary where: \n",
    "        - Each column name is now a key \n",
    "        - That standard deviation of the column is the value \n",
    "        - *Example Output :* `{'ACT_Math': 120, 'ACT_Reading': 120, ...}`\n",
    "3. Investigate trends in the data.\n",
    "    - Using sorting and/or masking (along with the `.head()` method to avoid printing our entire dataframe), consider questions relevant to your problem statement. Some examples are provided below (but feel free to change these questions for your specific problem):\n",
    "        - Which states have the highest and lowest participation rates for the 2017, 2019, or 2019 SAT and ACT?\n",
    "        - Which states have the highest and lowest mean total/composite scores for the 2017, 2019, or 2019 SAT and ACT?\n",
    "        - Do any states with 100% participation on a given test have a rate change year-to-year?\n",
    "        - Do any states show have >50% participation on *both* tests each year?\n",
    "        - Which colleges have the highest median SAT and ACT scores for admittance?\n",
    "        - Which California school districts have the highest and lowest mean test scores?\n",
    "    - **You should comment on your findings at each step in a markdown cell below your code block**. Make sure you include at least one example of sorting your dataframe by a column, and one example of using boolean filtering (i.e., masking) to select a subset of the dataframe."
   ]
  },
  {
   "cell_type": "markdown",
   "metadata": {},
   "source": [
    "1. Summary Statistics."
   ]
  },
  {
   "cell_type": "code",
   "execution_count": 19,
   "metadata": {},
   "outputs": [
    {
     "data": {
      "text/html": [
       "<div>\n",
       "<style scoped>\n",
       "    .dataframe tbody tr th:only-of-type {\n",
       "        vertical-align: middle;\n",
       "    }\n",
       "\n",
       "    .dataframe tbody tr th {\n",
       "        vertical-align: top;\n",
       "    }\n",
       "\n",
       "    .dataframe thead th {\n",
       "        text-align: right;\n",
       "    }\n",
       "</style>\n",
       "<table border=\"1\" class=\"dataframe\">\n",
       "  <thead>\n",
       "    <tr style=\"text-align: right;\">\n",
       "      <th></th>\n",
       "      <th>sat_participation</th>\n",
       "      <th>sat_ebrw</th>\n",
       "      <th>sat_math</th>\n",
       "      <th>sat_total</th>\n",
       "      <th>act_participation</th>\n",
       "      <th>act_composite</th>\n",
       "    </tr>\n",
       "  </thead>\n",
       "  <tbody>\n",
       "    <tr>\n",
       "      <th>count</th>\n",
       "      <td>51.000000</td>\n",
       "      <td>51.000000</td>\n",
       "      <td>51.000000</td>\n",
       "      <td>51.000000</td>\n",
       "      <td>51.000000</td>\n",
       "      <td>51.000000</td>\n",
       "    </tr>\n",
       "    <tr>\n",
       "      <th>mean</th>\n",
       "      <td>0.490588</td>\n",
       "      <td>560.803922</td>\n",
       "      <td>552.196078</td>\n",
       "      <td>1113.078431</td>\n",
       "      <td>0.586667</td>\n",
       "      <td>21.464706</td>\n",
       "    </tr>\n",
       "    <tr>\n",
       "      <th>std</th>\n",
       "      <td>0.387476</td>\n",
       "      <td>46.248035</td>\n",
       "      <td>51.290553</td>\n",
       "      <td>97.197910</td>\n",
       "      <td>0.345159</td>\n",
       "      <td>2.194523</td>\n",
       "    </tr>\n",
       "    <tr>\n",
       "      <th>min</th>\n",
       "      <td>0.020000</td>\n",
       "      <td>483.000000</td>\n",
       "      <td>460.000000</td>\n",
       "      <td>943.000000</td>\n",
       "      <td>0.060000</td>\n",
       "      <td>17.900000</td>\n",
       "    </tr>\n",
       "    <tr>\n",
       "      <th>25%</th>\n",
       "      <td>0.055000</td>\n",
       "      <td>527.500000</td>\n",
       "      <td>511.500000</td>\n",
       "      <td>1038.000000</td>\n",
       "      <td>0.245000</td>\n",
       "      <td>19.800000</td>\n",
       "    </tr>\n",
       "    <tr>\n",
       "      <th>50%</th>\n",
       "      <td>0.540000</td>\n",
       "      <td>550.000000</td>\n",
       "      <td>546.000000</td>\n",
       "      <td>1097.000000</td>\n",
       "      <td>0.540000</td>\n",
       "      <td>21.100000</td>\n",
       "    </tr>\n",
       "    <tr>\n",
       "      <th>75%</th>\n",
       "      <td>0.820000</td>\n",
       "      <td>612.000000</td>\n",
       "      <td>599.000000</td>\n",
       "      <td>1210.000000</td>\n",
       "      <td>1.000000</td>\n",
       "      <td>23.700000</td>\n",
       "    </tr>\n",
       "    <tr>\n",
       "      <th>max</th>\n",
       "      <td>1.000000</td>\n",
       "      <td>636.000000</td>\n",
       "      <td>648.000000</td>\n",
       "      <td>1284.000000</td>\n",
       "      <td>1.000000</td>\n",
       "      <td>25.500000</td>\n",
       "    </tr>\n",
       "  </tbody>\n",
       "</table>\n",
       "</div>"
      ],
      "text/plain": [
       "       sat_participation    sat_ebrw    sat_math    sat_total  \\\n",
       "count          51.000000   51.000000   51.000000    51.000000   \n",
       "mean            0.490588  560.803922  552.196078  1113.078431   \n",
       "std             0.387476   46.248035   51.290553    97.197910   \n",
       "min             0.020000  483.000000  460.000000   943.000000   \n",
       "25%             0.055000  527.500000  511.500000  1038.000000   \n",
       "50%             0.540000  550.000000  546.000000  1097.000000   \n",
       "75%             0.820000  612.000000  599.000000  1210.000000   \n",
       "max             1.000000  636.000000  648.000000  1284.000000   \n",
       "\n",
       "       act_participation  act_composite  \n",
       "count          51.000000      51.000000  \n",
       "mean            0.586667      21.464706  \n",
       "std             0.345159       2.194523  \n",
       "min             0.060000      17.900000  \n",
       "25%             0.245000      19.800000  \n",
       "50%             0.540000      21.100000  \n",
       "75%             1.000000      23.700000  \n",
       "max             1.000000      25.500000  "
      ]
     },
     "metadata": {},
     "output_type": "display_data"
    },
    {
     "data": {
      "text/html": [
       "<div>\n",
       "<style scoped>\n",
       "    .dataframe tbody tr th:only-of-type {\n",
       "        vertical-align: middle;\n",
       "    }\n",
       "\n",
       "    .dataframe tbody tr th {\n",
       "        vertical-align: top;\n",
       "    }\n",
       "\n",
       "    .dataframe thead th {\n",
       "        text-align: right;\n",
       "    }\n",
       "</style>\n",
       "<table border=\"1\" class=\"dataframe\">\n",
       "  <thead>\n",
       "    <tr style=\"text-align: right;\">\n",
       "      <th></th>\n",
       "      <th>number_of_applicants</th>\n",
       "      <th>accept_rate</th>\n",
       "      <th>sat_25th_percentile</th>\n",
       "      <th>sat_75th_percentile</th>\n",
       "      <th>act_25th_percentile</th>\n",
       "      <th>act_75th_percentile</th>\n",
       "    </tr>\n",
       "  </thead>\n",
       "  <tbody>\n",
       "    <tr>\n",
       "      <th>count</th>\n",
       "      <td>416.000000</td>\n",
       "      <td>416.000000</td>\n",
       "      <td>410.000000</td>\n",
       "      <td>410.000000</td>\n",
       "      <td>410.000000</td>\n",
       "      <td>410.000000</td>\n",
       "    </tr>\n",
       "    <tr>\n",
       "      <th>mean</th>\n",
       "      <td>17481.759615</td>\n",
       "      <td>0.557034</td>\n",
       "      <td>1167.008537</td>\n",
       "      <td>1358.892683</td>\n",
       "      <td>24.712927</td>\n",
       "      <td>29.889756</td>\n",
       "    </tr>\n",
       "    <tr>\n",
       "      <th>std</th>\n",
       "      <td>17447.621897</td>\n",
       "      <td>0.242117</td>\n",
       "      <td>129.586121</td>\n",
       "      <td>111.431443</td>\n",
       "      <td>4.127758</td>\n",
       "      <td>3.154675</td>\n",
       "    </tr>\n",
       "    <tr>\n",
       "      <th>min</th>\n",
       "      <td>211.000000</td>\n",
       "      <td>0.043000</td>\n",
       "      <td>793.000000</td>\n",
       "      <td>1050.000000</td>\n",
       "      <td>15.000000</td>\n",
       "      <td>19.000000</td>\n",
       "    </tr>\n",
       "    <tr>\n",
       "      <th>25%</th>\n",
       "      <td>5313.000000</td>\n",
       "      <td>0.376250</td>\n",
       "      <td>1070.000000</td>\n",
       "      <td>1270.000000</td>\n",
       "      <td>22.000000</td>\n",
       "      <td>28.000000</td>\n",
       "    </tr>\n",
       "    <tr>\n",
       "      <th>50%</th>\n",
       "      <td>11622.000000</td>\n",
       "      <td>0.613000</td>\n",
       "      <td>1150.000000</td>\n",
       "      <td>1350.000000</td>\n",
       "      <td>24.000000</td>\n",
       "      <td>30.000000</td>\n",
       "    </tr>\n",
       "    <tr>\n",
       "      <th>75%</th>\n",
       "      <td>23599.750000</td>\n",
       "      <td>0.742250</td>\n",
       "      <td>1250.000000</td>\n",
       "      <td>1440.000000</td>\n",
       "      <td>28.000000</td>\n",
       "      <td>32.000000</td>\n",
       "    </tr>\n",
       "    <tr>\n",
       "      <th>max</th>\n",
       "      <td>111322.000000</td>\n",
       "      <td>0.999000</td>\n",
       "      <td>1530.000000</td>\n",
       "      <td>1580.000000</td>\n",
       "      <td>35.000000</td>\n",
       "      <td>36.000000</td>\n",
       "    </tr>\n",
       "  </tbody>\n",
       "</table>\n",
       "</div>"
      ],
      "text/plain": [
       "       number_of_applicants  accept_rate  sat_25th_percentile  \\\n",
       "count            416.000000   416.000000           410.000000   \n",
       "mean           17481.759615     0.557034          1167.008537   \n",
       "std            17447.621897     0.242117           129.586121   \n",
       "min              211.000000     0.043000           793.000000   \n",
       "25%             5313.000000     0.376250          1070.000000   \n",
       "50%            11622.000000     0.613000          1150.000000   \n",
       "75%            23599.750000     0.742250          1250.000000   \n",
       "max           111322.000000     0.999000          1530.000000   \n",
       "\n",
       "       sat_75th_percentile  act_25th_percentile  act_75th_percentile  \n",
       "count           410.000000           410.000000           410.000000  \n",
       "mean           1358.892683            24.712927            29.889756  \n",
       "std             111.431443             4.127758             3.154675  \n",
       "min            1050.000000            15.000000            19.000000  \n",
       "25%            1270.000000            22.000000            28.000000  \n",
       "50%            1350.000000            24.000000            30.000000  \n",
       "75%            1440.000000            28.000000            32.000000  \n",
       "max            1580.000000            35.000000            36.000000  "
      ]
     },
     "metadata": {},
     "output_type": "display_data"
    }
   ],
   "source": [
    "display(merged_scores_2019.describe()) # ignore year (converted from datetime to int)\n",
    "display(sat_act_by_college.describe())"
   ]
  },
  {
   "cell_type": "markdown",
   "metadata": {},
   "source": [
    "2. Use a **dictionary comprehension** to apply the standard deviation function you create in part 1 to each numeric column in the dataframe."
   ]
  },
  {
   "cell_type": "code",
   "execution_count": 20,
   "metadata": {},
   "outputs": [],
   "source": [
    "# Standard Deviation Dictionary for year 2019\n",
    "\n",
    "sd = {\n",
    "    'SAT_EBRW' : std_dev(merged_scores_2019['sat_ebrw']),\n",
    "    'SAT_Math' : std_dev(merged_scores_2019['sat_math']),\n",
    "    'SAT_Total' : std_dev(merged_scores_2019['sat_total']),\n",
    "    'ACT_Composite' : std_dev(merged_scores_2019['act_composite'])\n",
    "}\n",
    "\n"
   ]
  },
  {
   "cell_type": "markdown",
   "metadata": {},
   "source": [
    "3. Investigate trends in the data."
   ]
  },
  {
   "cell_type": "markdown",
   "metadata": {},
   "source": [
    "_Highest and lowest participation rates and test scores_"
   ]
  },
  {
   "cell_type": "code",
   "execution_count": 21,
   "metadata": {},
   "outputs": [],
   "source": [
    "# Create function to display max/min participation rates and test scores\n",
    "\n",
    "def max_min_part_score(dataset):\n",
    "\n",
    "    max_sat_part = max(dataset['sat_participation'])\n",
    "    min_sat_part = min(dataset['sat_participation'])\n",
    "    max_act_part = max(dataset['act_participation'])\n",
    "    min_act_part = min(dataset['act_participation'])\n",
    "\n",
    "    max_sat_score = max(dataset['sat_total'])\n",
    "    min_sat_score = min(dataset['sat_total'])\n",
    "    max_act_score = max(dataset['act_composite'])\n",
    "    min_act_score = min(dataset['act_composite'])\n",
    "\n",
    "    print(f'Max SAT Participation: {max_sat_part}\\nStates: {list(dataset[\"state\"][x] for x in range(len(dataset)) if dataset[\"sat_participation\"][x] == max_sat_part)}')\n",
    "    print(f'Min SAT Participation: {min_sat_part}\\nStates: {list(dataset[\"state\"][x] for x in range(len(dataset)) if dataset[\"sat_participation\"][x] == min_sat_part)}')\n",
    "    print(f'Max ACT Participation: {max_act_part}\\nStates: {list(dataset[\"state\"][x] for x in range(len(dataset)) if dataset[\"act_participation\"][x] == max_act_part)}')\n",
    "    print(f'Min ACT Participation: {min_act_part}\\nStates: {list(dataset[\"state\"][x] for x in range(len(dataset)) if dataset[\"act_participation\"][x] == min_act_part)}')\n",
    "    print(f'\\n')\n",
    "    print(f'Max SAT Score: {max_sat_score}\\nStates: {list(dataset[\"state\"][x] for x in range(len(dataset)) if dataset[\"sat_total\"][x] == max_sat_score)}')\n",
    "    print(f'Min SAT Score: {min_sat_score}\\nStates: {list(dataset[\"state\"][x] for x in range(len(dataset)) if dataset[\"sat_total\"][x] == min_sat_score)}')\n",
    "    print(f'Max ACT Score: {max_act_score}\\nStates: {list(dataset[\"state\"][x] for x in range(len(dataset)) if dataset[\"act_composite\"][x] == max_act_score)}')\n",
    "    print(f'Min ACT Score: {min_act_score}\\nStates: {list(dataset[\"state\"][x] for x in range(len(dataset)) if dataset[\"act_composite\"][x] == min_act_score)}')"
   ]
  },
  {
   "cell_type": "code",
   "execution_count": 22,
   "metadata": {
    "scrolled": false
   },
   "outputs": [
    {
     "name": "stdout",
     "output_type": "stream",
     "text": [
      "Max SAT Participation: 1.0\n",
      "States: ['Colorado', 'Connecticut', 'Delaware', 'Florida', 'Idaho', 'Illinois', 'Michigan', 'Rhode Island']\n",
      "Min SAT Participation: 0.02\n",
      "States: ['North Dakota']\n",
      "Max ACT Participation: 1.0\n",
      "States: ['Alabama', 'Arkansas', 'Kentucky', 'Louisiana', 'Mississippi', 'Montana', 'Nebraska', 'Nevada', 'North Carolina', 'Ohio', 'Oklahoma', 'Tennessee', 'Utah', 'Wisconsin', 'Wyoming']\n",
      "Min ACT Participation: 0.06\n",
      "States: ['Maine']\n",
      "\n",
      "\n",
      "Max SAT Score: 1284\n",
      "States: ['Minnesota']\n",
      "Min SAT Score: 943\n",
      "States: ['West Virginia']\n",
      "Max ACT Score: 25.5\n",
      "States: ['Connecticut', 'Massachusetts']\n",
      "Min ACT Score: 17.9\n",
      "States: ['Nevada']\n"
     ]
    }
   ],
   "source": [
    "max_min_part_score(merged_scores_2019)"
   ]
  },
  {
   "cell_type": "markdown",
   "metadata": {},
   "source": [
    "_Plot distribution of test scores_"
   ]
  },
  {
   "cell_type": "code",
   "execution_count": 23,
   "metadata": {},
   "outputs": [
    {
     "data": {
      "text/plain": [
       "Text(0.5, 1.0, 'Boxplot Distribution of SAT Scores by Year')"
      ]
     },
     "execution_count": 23,
     "metadata": {},
     "output_type": "execute_result"
    },
    {
     "data": {
      "image/png": "[encoded data removed]",
      "text/plain": [
       "<Figure size 432x288 with 1 Axes>"
      ]
     },
     "metadata": {
      "needs_background": "light"
     },
     "output_type": "display_data"
    }
   ],
   "source": [
    "# Plot boxplot distribution of test scores\n",
    "\n",
    "pivot_table_sat_total = pd.pivot_table(merged_scores_all, index='state',values='sat_total',columns='year')\n",
    "boxplot_sat = pivot_table_sat_total.plot(kind='box')\n",
    "boxplot_sat.set_xlabel('year')\n",
    "boxplot_sat.set_title('Boxplot Distribution of SAT Scores by Year', size=14)"
   ]
  },
  {
   "cell_type": "code",
   "execution_count": 24,
   "metadata": {},
   "outputs": [
    {
     "data": {
      "text/plain": [
       "Text(0.5, 1.0, 'Boxplot Distribution of ACT Scores by Year')"
      ]
     },
     "execution_count": 24,
     "metadata": {},
     "output_type": "execute_result"
    },
    {
     "data": {
      "image/png": "[encoded data removed]",
      "text/plain": [
       "<Figure size 432x288 with 1 Axes>"
      ]
     },
     "metadata": {
      "needs_background": "light"
     },
     "output_type": "display_data"
    }
   ],
   "source": [
    "pivot_table_act_total = pd.pivot_table(merged_scores_all, index='state',values='act_composite',columns='year')\n",
    "boxplot_act = pivot_table_act_total.plot(kind='box')\n",
    "boxplot_act.set_xlabel('year')\n",
    "boxplot_act.set_title('Boxplot Distribution of ACT Scores by Year', size=14)"
   ]
  },
  {
   "cell_type": "markdown",
   "metadata": {},
   "source": [
    "Overall trends over time on a macro level...\n",
    "<br> _SAT participation on average has increased between 2017-09. While participation rates for SAT have increased, the mean score has decreased_\n",
    "<br> _ACT scores have also decreased with participation_\n",
    "\n",
    "_Test scores have been falling year on year..regardless of participation implying Americans getting worse at admissions test_"
   ]
  },
  {
   "cell_type": "code",
   "execution_count": 25,
   "metadata": {},
   "outputs": [
    {
     "data": {
      "text/html": [
       "<div>\n",
       "<style scoped>\n",
       "    .dataframe tbody tr th:only-of-type {\n",
       "        vertical-align: middle;\n",
       "    }\n",
       "\n",
       "    .dataframe tbody tr th {\n",
       "        vertical-align: top;\n",
       "    }\n",
       "\n",
       "    .dataframe thead th {\n",
       "        text-align: right;\n",
       "    }\n",
       "</style>\n",
       "<table border=\"1\" class=\"dataframe\">\n",
       "  <thead>\n",
       "    <tr style=\"text-align: right;\">\n",
       "      <th></th>\n",
       "      <th>sat_total</th>\n",
       "      <th>sat_participation</th>\n",
       "      <th>act_composite</th>\n",
       "      <th>act_participation</th>\n",
       "    </tr>\n",
       "    <tr>\n",
       "      <th>year</th>\n",
       "      <th></th>\n",
       "      <th></th>\n",
       "      <th></th>\n",
       "      <th></th>\n",
       "    </tr>\n",
       "  </thead>\n",
       "  <tbody>\n",
       "    <tr>\n",
       "      <th>2017</th>\n",
       "      <td>1126.098039</td>\n",
       "      <td>0.398039</td>\n",
       "      <td>21.546000</td>\n",
       "      <td>0.652549</td>\n",
       "    </tr>\n",
       "    <tr>\n",
       "      <th>2018</th>\n",
       "      <td>1120.725490</td>\n",
       "      <td>0.458824</td>\n",
       "      <td>21.503922</td>\n",
       "      <td>0.612353</td>\n",
       "    </tr>\n",
       "    <tr>\n",
       "      <th>2019</th>\n",
       "      <td>1113.078431</td>\n",
       "      <td>0.490588</td>\n",
       "      <td>21.464706</td>\n",
       "      <td>0.586667</td>\n",
       "    </tr>\n",
       "  </tbody>\n",
       "</table>\n",
       "</div>"
      ],
      "text/plain": [
       "        sat_total  sat_participation  act_composite  act_participation\n",
       "year                                                                  \n",
       "2017  1126.098039           0.398039      21.546000           0.652549\n",
       "2018  1120.725490           0.458824      21.503922           0.612353\n",
       "2019  1113.078431           0.490588      21.464706           0.586667"
      ]
     },
     "execution_count": 25,
     "metadata": {},
     "output_type": "execute_result"
    }
   ],
   "source": [
    "merged_scores_all[['sat_total','sat_participation','act_composite','act_participation','year',]].groupby('year').mean()"
   ]
  },
  {
   "cell_type": "markdown",
   "metadata": {},
   "source": [
    "_SAT and ACT scores have a negative correlation_\n",
    "<br> _When choosing a state to study in, decide based on the test requirements of schools_"
   ]
  },
  {
   "cell_type": "code",
   "execution_count": 26,
   "metadata": {
    "scrolled": true
   },
   "outputs": [
    {
     "data": {
      "text/plain": [
       "Text(0.5, 1, 'Test Score Correlation Matrix')"
      ]
     },
     "execution_count": 26,
     "metadata": {},
     "output_type": "execute_result"
    },
    {
     "data": {
      "image/png": "[encoded data removed]",
      "text/plain": [
       "<Figure size 432x288 with 2 Axes>"
      ]
     },
     "metadata": {
      "needs_background": "light"
     },
     "output_type": "display_data"
    }
   ],
   "source": [
    "sat_act_corr = merged_scores_all[['sat_ebrw','sat_math','sat_total', 'act_composite']].corr()\n",
    "\n",
    "corr_table = sns.heatmap(sat_act_corr, annot=True)\n",
    "corr_table.set_yticklabels(labels=list(sat_act_corr.columns), rotation=0)\n",
    "corr_table.set_title('Test Score Correlation Matrix', size=14)"
   ]
  },
  {
   "cell_type": "markdown",
   "metadata": {},
   "source": [
    "_Test scores and participation rates have an inverse correlation_\n",
    "<br> _Further steps: Investigate other factors that correlate with participation rate_"
   ]
  },
  {
   "cell_type": "code",
   "execution_count": 27,
   "metadata": {},
   "outputs": [],
   "source": [
    "# Plot test scores against participation rate\n",
    "\n",
    "def plot_score_vs_part(x_value, y_value, dataset): # inputs are column titles\n",
    "    plt.scatter(x_value, y_value, data=dataset)\n",
    "    \n",
    "    # Estimate coefficient using OLS\n",
    "    # Ensure no null values in dataset\n",
    "    a, b = np.polyfit(dataset[x_value], dataset[y_value],1) \n",
    "    \n",
    "    plt.plot(dataset[x_value], b+a*dataset[x_value], color='red') # plot trendline"
   ]
  },
  {
   "cell_type": "code",
   "execution_count": 28,
   "metadata": {},
   "outputs": [
    {
     "data": {
      "text/plain": [
       "Text(0, 0.5, 'ACT Score')"
      ]
     },
     "execution_count": 28,
     "metadata": {},
     "output_type": "execute_result"
    },
    {
     "data": {
      "image/png": "[encoded data removed]",
      "text/plain": [
       "<Figure size 432x288 with 1 Axes>"
      ]
     },
     "metadata": {
      "needs_background": "light"
     },
     "output_type": "display_data"
    }
   ],
   "source": [
    "plot_score_vs_part('act_participation', 'act_composite', merged_scores_2019.dropna())\n",
    "plt.title('ACT Scores vs Participation Rate (2019)', size=14)\n",
    "plt.xlabel('Participation Rate')\n",
    "plt.ylabel('ACT Score')"
   ]
  },
  {
   "cell_type": "code",
   "execution_count": 29,
   "metadata": {
    "scrolled": true
   },
   "outputs": [
    {
     "data": {
      "text/plain": [
       "Text(0, 0.5, 'SAT Score')"
      ]
     },
     "execution_count": 29,
     "metadata": {},
     "output_type": "execute_result"
    },
    {
     "data": {
      "image/png": "[encoded data removed]",
      "text/plain": [
       "<Figure size 432x288 with 1 Axes>"
      ]
     },
     "metadata": {
      "needs_background": "light"
     },
     "output_type": "display_data"
    }
   ],
   "source": [
    "plot_score_vs_part('sat_participation', 'sat_total', merged_scores_2019.dropna()) \n",
    "plt.title('SAT Scores vs Participation Rate (2019)', size=14)\n",
    "plt.xlabel('Participation Rate')\n",
    "plt.ylabel('SAT Score')"
   ]
  },
  {
   "cell_type": "code",
   "execution_count": 30,
   "metadata": {},
   "outputs": [
    {
     "data": {
      "text/plain": [
       "Text(0, 0.5, 'ACT Participation Rate')"
      ]
     },
     "execution_count": 30,
     "metadata": {},
     "output_type": "execute_result"
    },
    {
     "data": {
      "image/png": "[encoded data removed]",
      "text/plain": [
       "<Figure size 432x288 with 1 Axes>"
      ]
     },
     "metadata": {
      "needs_background": "light"
     },
     "output_type": "display_data"
    }
   ],
   "source": [
    "plot_score_vs_part('sat_participation', 'act_participation', merged_scores_2019.dropna()) \n",
    "plt.title('SAT vs ACT Participation Rate (2019)', size=14)\n",
    "plt.xlabel('SAT Participation Rate')\n",
    "plt.ylabel('ACT Participation Rate')"
   ]
  },
  {
   "cell_type": "markdown",
   "metadata": {},
   "source": [
    "_Analyse the School Qualification Count_\n",
    "<br> _Identify the percentage of schools qualified by the average propsective student (based on 25th percentile admission score)_\n",
    "<br> _Since admission scores are only one portion of the selection criteria, a higher percentage could imply a higher probability of obtaining a spot at a school_\n",
    "\n",
    "_The tables below show the states in which prospective students stand the best chance of being admitted to a school (assuming each state's test score is a function of its education system)_"
   ]
  },
  {
   "cell_type": "code",
   "execution_count": 31,
   "metadata": {},
   "outputs": [
    {
     "data": {
      "image/png": "[encoded data removed]",
      "text/plain": [
       "<Figure size 1080x1080 with 2 Axes>"
      ]
     },
     "metadata": {
      "needs_background": "light"
     },
     "output_type": "display_data"
    }
   ],
   "source": [
    "school_qualification_count = pd.DataFrame({'SAT' : pd.Series(prospective_students_sat), 'ACT' : pd.Series(prospective_students_act)})\n",
    "school_qualification_count['Total'] = school_qualification_count['SAT'] + school_qualification_count['ACT']\n",
    "\n",
    "fig, ax = plt.subplots(2, sharex=True)\n",
    "\n",
    "fig.set_figheight(15)\n",
    "fig.set_figwidth(15)\n",
    "\n",
    "ax[0].barh(school_qualification_count.sort_values('SAT', ascending=False)['SAT'].head(10).index, school_qualification_count.sort_values('SAT', ascending=False)['SAT'].head(10).values)\n",
    "ax[1].barh(school_qualification_count.sort_values('ACT', ascending=False)['ACT'].head(10).index, school_qualification_count.sort_values('ACT', ascending=False)['ACT'].head(10).values)\n",
    "\n",
    "ax[0].set_title('Top 10 School Qualification Count for SAT Scores', size=14)\n",
    "ax[1].set_title('Top 10 School Qualification Count for ACT Scores', size=14)\n",
    "\n",
    "ax[0].grid(axis='x', linestyle='--')\n",
    "ax[1].grid(axis='x', linestyle='--')"
   ]
  },
  {
   "cell_type": "code",
   "execution_count": 32,
   "metadata": {},
   "outputs": [
    {
     "data": {
      "text/plain": [
       "Index(['Wisconsin', 'Minnesota', 'South Dakota', 'North Dakota', 'Nebraska',\n",
       "       'Iowa', 'Kansas', 'Missouri', 'Utah', 'Mississippi'],\n",
       "      dtype='object')"
      ]
     },
     "execution_count": 32,
     "metadata": {},
     "output_type": "execute_result"
    }
   ],
   "source": [
    "school_qualification_count.sort_values('SAT', ascending=False)['SAT'].head(10).index"
   ]
  },
  {
   "cell_type": "markdown",
   "metadata": {},
   "source": [
    "## Visualize the Data\n",
    "\n",
    "There's not a magic bullet recommendation for the right number of plots to understand a given dataset, but visualizing your data is *always* a good idea. Not only does it allow you to quickly convey your findings (even if you have a non-technical audience), it will often reveal trends in your data that escaped you when you were looking only at numbers. It is important to not only create visualizations, but to **interpret your visualizations** as well.\n",
    "\n",
    "**Every plot should**:\n",
    "- Have a title\n",
    "- Have axis labels\n",
    "- Have appropriate tick labels\n",
    "- Text is legible in a plot\n",
    "- Plots demonstrate meaningful and valid relationships\n",
    "- Have an interpretation to aid understanding\n",
    "\n",
    "Here is an example of what your plots should look like following the above guidelines. Note that while the content of this example is unrelated, the principles of visualization hold:\n",
    "\n",
    "![](https://snag.gy/hCBR1U.jpg)\n",
    "*Interpretation: The above image shows that as we increase our spending on advertising, our sales numbers also tend to increase. There is a positive correlation between advertising spending and sales.*\n",
    "\n",
    "---\n",
    "\n",
    "Here are some prompts to get you started with visualizations. Feel free to add additional visualizations as you see fit:\n",
    "1. Use Seaborn's heatmap with pandas `.corr()` to visualize correlations between all numeric features.\n",
    "    - Heatmaps are generally not appropriate for presentations, and should often be excluded from reports as they can be visually overwhelming. **However**, they can be extremely useful in identify relationships of potential interest (as well as identifying potential collinearity before modeling).\n",
    "    - Please take time to format your output, adding a title. Look through some of the additional arguments and options. (Axis labels aren't really necessary, as long as the title is informative).\n",
    "2. Visualize distributions using histograms. If you have a lot, consider writing a custom function and use subplots.\n",
    "    - *OPTIONAL*: Summarize the underlying distributions of your features (in words & statistics)\n",
    "         - Be thorough in your verbal description of these distributions.\n",
    "         - Be sure to back up these summaries with statistics.\n",
    "         - We generally assume that data we sample from a population will be normally distributed. Do we observe this trend? Explain your answers for each distribution and how you think this will affect estimates made from these data.\n",
    "3. Plot and interpret boxplots. \n",
    "    - Boxplots demonstrate central tendency and spread in variables. In a certain sense, these are somewhat redundant with histograms, but you may be better able to identify clear outliers or differences in IQR, etc.\n",
    "    - Multiple values can be plotted to a single boxplot as long as they are of the same relative scale (meaning they have similar min/max values).\n",
    "    - Each boxplot should:\n",
    "        - Only include variables of a similar scale\n",
    "        - Have clear labels for each variable\n",
    "        - Have appropriate titles and labels\n",
    "4. Plot and interpret scatter plots to view relationships between features. Feel free to write a custom function, and subplot if you'd like. Functions save both time and space.\n",
    "    - Your plots should have:\n",
    "        - Two clearly labeled axes\n",
    "        - A proper title\n",
    "        - Colors and symbols that are clear and unmistakable\n",
    "5. Additional plots of your choosing.\n",
    "    - Are there any additional trends or relationships you haven't explored? Was there something interesting you saw that you'd like to dive further into? It's likely that there are a few more plots you might want to generate to support your narrative and recommendations that you are building toward. **As always, make sure you're interpreting your plots as you go**."
   ]
  },
  {
   "cell_type": "markdown",
   "metadata": {},
   "source": [
    "Visualizations done with EDA"
   ]
  },
  {
   "cell_type": "markdown",
   "metadata": {},
   "source": [
    "## Conclusions and Recommendations"
   ]
  },
  {
   "cell_type": "markdown",
   "metadata": {},
   "source": [
    "Based on your exploration of the data, what are you key takeaways and recommendations? Make sure to answer your question of interest or address your problem statement here."
   ]
  },
  {
   "cell_type": "markdown",
   "metadata": {},
   "source": [
    "Given that test scores on average have been falling and with SAT/ACT scores negatively correlated, it might be wise for prospective students to be selective with the state in which they plan to undergo pre-tertiary education. We interpret low test scores as a proxy for a poor education system, although more analysis should be conducted to identify other factors (e.g. household income per capita, parent's education level, crime rates, etc.)\n",
    "\n",
    "Nevertheless, for this exercise, we assume that a prospective student will end up being an average one. A prospective student also has limited time and resources and should pick an admissions test to focus on (although both have similar topics). We present the optimal state and admissions test to consider.\n",
    "\n",
    "<img src=\"https://github.com/eugenekhoo1/project_1/blob/bec43865fed0406c47d87c188a3d2c846bfe7e3b/images/school_qualification_count1.png\">\n",
    "\n",
    "The School Qualification Count measures the number of admission thresholds (at 25th percentile) that the average student is able to meet. For example, the average student taking the SAT in Wisconsin would have met the 25th percentile threshold of 332 schools. We also observe that for the top 10 states, the average students taking the SATs have a higher school qualification count than if they took the ACT. This could be a contributing factor to the increasing SAT participation rates and declining ACT participation rates.\n",
    "\n",
    "The recommendation would be to study for the __SAT__ in one of the following states:\n",
    "<br> __['Wisconsin', 'Minnesota', 'South Dakota', 'North Dakota', 'Nebraska', 'Iowa', 'Kansas', 'Missouri', 'Utah', 'Mississippi']__"
   ]
  },
  {
   "cell_type": "markdown",
   "metadata": {},
   "source": [
    "Don't forget to create your README!\n",
    "\n",
    "**To-Do:** *If you combine your problem statement, data dictionary, brief summary of your analysis, and conclusions/recommendations, you have an amazing README.md file that quickly aligns your audience to the contents of your project.* Don't forget to cite your data sources!"
   ]
  }
 ],
 "metadata": {
  "anaconda-cloud": {},
  "kernelspec": {
   "display_name": "Python 3",
   "language": "python",
   "name": "python3"
  },
  "language_info": {
   "codemirror_mode": {
    "name": "ipython",
    "version": 3
   },
   "file_extension": ".py",
   "mimetype": "text/x-python",
   "name": "python",
   "nbconvert_exporter": "python",
   "pygments_lexer": "ipython3",
   "version": "3.7.6"
  }
 },
 "nbformat": 4,
 "nbformat_minor": 4
}
